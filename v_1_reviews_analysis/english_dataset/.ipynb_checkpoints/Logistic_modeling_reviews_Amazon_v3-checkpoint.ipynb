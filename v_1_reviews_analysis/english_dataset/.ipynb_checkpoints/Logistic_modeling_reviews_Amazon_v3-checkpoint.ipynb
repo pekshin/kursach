{
 "cells": [
  {
   "cell_type": "markdown",
   "metadata": {},
   "source": [
    "# Импортируем необходимые библиотеки "
   ]
  },
  {
   "cell_type": "code",
   "execution_count": 3,
   "metadata": {
    "ExecuteTime": {
     "end_time": "2019-05-31T18:52:19.833612Z",
     "start_time": "2019-05-31T18:52:19.818641Z"
    }
   },
   "outputs": [],
   "source": [
    "import json\n",
    "import pandas as pd\n",
    "import re\n",
    "import random\n",
    "import numpy as np\n",
    "from nltk.corpus import stopwords \n",
    "from sklearn.feature_extraction.text import TfidfVectorizer\n",
    "from sklearn.linear_model import LogisticRegression\n",
    "from sklearn.metrics import accuracy_score\n",
    "from sklearn.model_selection import train_test_split\n",
    "\n",
    "######## METRICS\n",
    "from sklearn.metrics import roc_auc_score\n",
    "from sklearn.metrics import accuracy_score\n",
    "from sklearn.metrics import f1_score\n",
    "from sklearn.metrics import balanced_accuracy_score\n",
    "from sklearn.metrics import precision_recall_curve\n",
    "\n",
    "from sklearn.metrics import classification_report\n",
    "from sklearn.metrics import roc_auc_score\n",
    "from sklearn.metrics import roc_curve\n",
    "\n",
    "# matplotlib\n",
    "import numpy as np\n",
    "import matplotlib.mlab as mlab\n",
    "import matplotlib.pyplot as plt\n",
    "%matplotlib inline\n",
    "\n",
    "import time"
   ]
  },
  {
   "cell_type": "markdown",
   "metadata": {},
   "source": [
    "# Функции, которые будут использоваться:\n",
    "    - preprocess_reviews - для удаления из отзывов всех лишних символов\n",
    "    - lemmatize - для лемматизации слов"
   ]
  },
  {
   "cell_type": "code",
   "execution_count": 4,
   "metadata": {
    "ExecuteTime": {
     "end_time": "2019-05-31T18:52:20.725146Z",
     "start_time": "2019-05-31T18:52:20.719141Z"
    }
   },
   "outputs": [],
   "source": [
    "from nltk import word_tokenize   \n",
    "from nltk.stem import WordNetLemmatizer\n",
    "class LemmaTokenizer(object):\n",
    "    def __init__(self):\n",
    "        self.wnl = WordNetLemmatizer()\n",
    "    def __call__(self, doc):\n",
    "        return [self.wnl.lemmatize(t) for t in word_tokenize(doc)]"
   ]
  },
  {
   "cell_type": "code",
   "execution_count": 5,
   "metadata": {
    "ExecuteTime": {
     "end_time": "2019-05-31T18:52:21.364094Z",
     "start_time": "2019-05-31T18:52:21.360767Z"
    }
   },
   "outputs": [],
   "source": [
    "from nltk.stem import PorterStemmer\n",
    "porter = PorterStemmer()"
   ]
  },
  {
   "cell_type": "code",
   "execution_count": 6,
   "metadata": {
    "ExecuteTime": {
     "end_time": "2019-05-31T18:52:21.941535Z",
     "start_time": "2019-05-31T18:52:21.933648Z"
    }
   },
   "outputs": [],
   "source": [
    "REPLACE_NO_SPACE = re.compile(\"[.;:!\\'?,\\\"()\\[\\]]\")\n",
    "REPLACE_WITH_SPACE = re.compile(\"(<br\\s*/><br\\s*/>)|(\\-)|(\\/)\")\n",
    "\n",
    "def preprocess_reviews(reviews):\n",
    "    reviews = [REPLACE_NO_SPACE.sub(\"\", line.lower()) for line in reviews]\n",
    "    reviews = [REPLACE_WITH_SPACE.sub(\" \", line) for line in reviews]\n",
    "    reviews = [REPLACE_WITH_SPACE.sub(\" \", line) for line in reviews]\n",
    "    return reviews\n",
    "def lemmatize(str_):\n",
    "    lst = str_.split(\" \")\n",
    "    lst_new = []\n",
    "    for i in lst:\n",
    "        new = porter.stem(i)\n",
    "        lst_new.append (new)\n",
    "    return ' '.join(lst_new)"
   ]
  },
  {
   "cell_type": "markdown",
   "metadata": {},
   "source": [
    "# Главная функция (classify_it), в которую подставляется месторасположение файлов."
   ]
  },
  {
   "cell_type": "code",
   "execution_count": 8,
   "metadata": {
    "ExecuteTime": {
     "end_time": "2019-05-31T18:53:04.922528Z",
     "start_time": "2019-05-31T18:53:04.825020Z"
    }
   },
   "outputs": [],
   "source": [
    "def prepare_dataset(filename):\n",
    "    i = 0\n",
    "    reviews_lst_good= []\n",
    "    reviews_lst_bad = []\n",
    "\n",
    "    #набираем список хороших/плохих отзывов, не более 75000 в каждом из списков\n",
    "    with open(filename, 'r') as f:\n",
    "            for line in f:\n",
    "                if json.loads(line)['overall'] > 3 and len(reviews_lst_good)<=500000:\n",
    "                    reviews_lst_good.append (json.loads(line))\n",
    "\n",
    "                elif json.loads(line)['overall'] < 3 and len(reviews_lst_bad)<=500000:\n",
    "                    reviews_lst_bad.append (json.loads(line))\n",
    "\n",
    "                if len(reviews_lst_good) + len (reviews_lst_bad) == 1000000:\n",
    "                    break\n",
    "    \n",
    "    # перемешиваем список (внутри элементы одного класса)\n",
    "    random.shuffle(reviews_lst_good)\n",
    "    random.shuffle(reviews_lst_bad)  \n",
    "    \n",
    "    # создаём template для сохранения конечных отзывов\n",
    "    reviewText_lst = []\n",
    "    mark_lst = []\n",
    "    \n",
    "    \n",
    "    # где будем уменьшать количество отзывов, чтобы их было равное количество\n",
    "    if len (reviews_lst_bad) < len(reviews_lst_good):\n",
    "        count_otz = len (reviews_lst_bad)\n",
    "    else:\n",
    "        count_otz = len (reviews_lst_good)\n",
    "        \n",
    "    \n",
    "    # i -- это СЛОВАРЬ!        \n",
    "    # обрезаем хороший и наполняем уже итоговый список\n",
    "    for i in reviews_lst_good[:count_otz]:\n",
    "        reviewText_lst.append (i['reviewText']) # можно прописать лемматизацию lemmatize()\n",
    "        mark_lst.append (1)\n",
    "    print ('Good: ',len(reviews_lst_good[:count_otz]))\n",
    "\n",
    "    # обрезаем плохие\n",
    "    for i in reviews_lst_bad[:count_otz]:\n",
    "        reviewText_lst.append (i['reviewText'])\n",
    "        mark_lst.append (-1)\n",
    "    print ('Bad: ',len(reviews_lst_bad[:count_otz]))\n",
    "\n",
    "    return reviewText_lst, mark_lst\n",
    "    \n",
    "def classify_it(filename, reviewText_lst, mark_lst):  \n",
    "    \n",
    "    # выборки готовы к передачи в модель\n",
    "    reviews_train = reviewText_lst\n",
    "    y = mark_lst\n",
    "    \n",
    "    # очищаем отзывы от лишних символов\n",
    "    reviews_train_clean = preprocess_reviews(reviews_train)\n",
    "    \n",
    "    \n",
    "    # делим выборку на тестовую и обучающую\n",
    "    X_train, X_val, y_train, y_val = train_test_split(\n",
    "        reviews_train_clean, y, train_size = 0.75\n",
    "    )  \n",
    "    \n",
    "    # столбец ответов \n",
    "    \n",
    "\n",
    "    print ('Подбор параметра для: ', filename[:-5])\n",
    "    print ('    ')\n",
    "    best_c_dict = {} # модель сама ищет лучший c и его результаты подбирает в итоге\n",
    "    c_list = []\n",
    "    result_c_list = []      \n",
    "   \n",
    "    time_lst_fit = []\n",
    "    time_frcst_lst = []\n",
    "    result_time_fit_lst = []\n",
    "    result_time_frcst_lst = []\n",
    "    \n",
    "    # определяем, где алгоритму необходимо искать С\n",
    "    \n",
    "    # 0.0001,0.001,0.01,0.05,0.25,0.1,\n",
    "    \n",
    "    grid = [0.001,0.01,0.05,0.25,0.1,1,5,5.4,5.5,6,8,10,100,1000]\n",
    "    \n",
    "    \n",
    "    print ('Бинаризируем столбец признаков')\n",
    "    # бинаризируем столбец признаков\n",
    "    cv = TfidfVectorizer(min_df=1, decode_error='replace', encoding='utf-8', norm='l2', use_idf=True, smooth_idf=True, sublinear_tf=False)\n",
    "    X = cv.fit_transform(X_train)\n",
    "    X_test = cv.transform(X_val)\n",
    "\n",
    "    print ('c подбираем')\n",
    "\n",
    "    \n",
    "    # итерируемся и подбираем параметр, используя Accuracy\n",
    "    for c in grid:\n",
    "        \n",
    "        final_model = LogisticRegression(C=c, solver= 'sag')\n",
    "        \n",
    "        startTime = time.time()\n",
    "        final_model.fit(X, y_train) ######\n",
    "        resultTime = time.time() - startTime\n",
    "        time_lst_fit.append (resultTime)\n",
    "        \n",
    "        startTime = time.time()\n",
    "        y_pred = final_model.predict(X_test) #####\n",
    "        resultTime = time.time() - startTime\n",
    "        time_frcst_lst.append (resultTime)\n",
    "        \n",
    "        print (\"Accuracy for C=%s: %s\" \n",
    "               % (c, accuracy_score(y_val, y_pred)))\n",
    "        \n",
    "        c_list.append (c)\n",
    "        result_c_list.append (accuracy_score(y_val, y_pred))\n",
    "        best_c_dict [c] = accuracy_score(y_val, y_pred)\n",
    "        \n",
    "    \n",
    "    # записываем результаты подбора коэффициента c\n",
    "    result_с = pd.DataFrame()\n",
    "    result_с['c'] = c_list\n",
    "    result_с ['result_acc'] = result_c_list\n",
    "    result_с['fit_time'] = time_lst_fit\n",
    "    result_с['forecast_time'] = time_frcst_lst\n",
    "    result_с.to_csv (filename[:-5]+'_podbor_c_v1.csv', index=False)\n",
    "    ###########################################################################\n",
    "    \n",
    "    inverse = [(value, key) for key, value in best_c_dict.items()]\n",
    "    print ('The best C is ', max(inverse)[1])\n",
    "    \n",
    "    \n",
    "    ### строим предсказание с лучшим c ++ считаем потраченное время\n",
    "    final_model_last = LogisticRegression(C=max(inverse)[1], solver= 'sag')\n",
    "    final_model_last.fit(X, y_train)\n",
    "    y_pred_last = final_model_last.predict(X_test)\n",
    "    ################\n",
    "\n",
    "    # смотрим на метрики \n",
    "    print (\"Final Accuracy: %s\" \n",
    "           % accuracy_score(y_val\n",
    "                            , y_pred_last))\n",
    "    \n",
    "    print('confusion_matrix')\n",
    "    from sklearn.metrics import confusion_matrix\n",
    "    confusion_matrix = confusion_matrix(y_val, y_pred_last)\n",
    "    print(confusion_matrix)\n",
    "    \n",
    "    print ('classification_report')\n",
    "    print(classification_report(y_val, y_pred_last))\n",
    "    \n",
    "    \n",
    "    print ('roc crivai')\n",
    "    \n",
    "\n",
    "    logit_roc_auc = roc_auc_score(y_val, y_pred_last)\n",
    "    fpr, tpr, thresholds = roc_curve(y_val, final_model.predict_proba(X_test)[:,1])\n",
    "    plt.figure()\n",
    "    \n",
    "    \n",
    "    data = {'fpr': fpr, 'tpr': tpr}\n",
    "    df = pd.DataFrame.from_dict(data)\n",
    "    df.to_csv (filename[:-5]+'_roc_crivai_v1.csv', index=False)\n",
    "    \n",
    "    plt.plot(fpr, tpr, label='Logistic Regression (area = %0.2f)' % logit_roc_auc)\n",
    "    plt.plot([0, 1], [0, 1],'r--')\n",
    "    plt.xlim([0.0, 1.0])\n",
    "    plt.ylim([0.0, 1.05])\n",
    "    plt.xlabel('False Positive Rate')\n",
    "    plt.ylabel('True Positive Rate')\n",
    "    plt.title('Receiver operating characteristic')\n",
    "    plt.legend(loc=\"lower right\")\n",
    "    plt.savefig('Log_ROC')\n",
    "    plt.show()\n",
    "    \n",
    "    # выделяем слова, которые обладают самым большим весом\n",
    "    feature_to_coef = {\n",
    "    word: coef for word, coef in zip(\n",
    "        cv.get_feature_names(), final_model.coef_[0]\n",
    "        )\n",
    "    }\n",
    "    for best_positive in sorted(\n",
    "        feature_to_coef.items(), \n",
    "        key=lambda x: x[1], \n",
    "        reverse=True)[:25]:\n",
    "        print (best_positive)\n",
    "\n",
    "    \n",
    "    for best_negative in sorted(\n",
    "        feature_to_coef.items(), \n",
    "        key=lambda x: x[1])[:25]:\n",
    "        print (best_negative)\n",
    "        \n",
    "    del reviewText_lst\n",
    "    del X\n",
    "    del X_test\n",
    "    gc.collect()"
   ]
  },
  {
   "cell_type": "markdown",
   "metadata": {},
   "source": [
    "# Меняем расположение папки, где находятся наборы данных и запускаем все функции"
   ]
  },
  {
   "cell_type": "code",
   "execution_count": null,
   "metadata": {
    "ExecuteTime": {
     "start_time": "2019-05-31T18:53:05.963Z"
    },
    "scrolled": true
   },
   "outputs": [
    {
     "name": "stdout",
     "output_type": "stream",
     "text": [
      "Health_and_Personal_Care_5\n",
      "   \n",
      "Good:  33300\n",
      "Bad:  33300\n"
     ]
    },
    {
     "name": "stderr",
     "output_type": "stream",
     "text": [
      "/anaconda3/lib/python3.7/site-packages/sklearn/model_selection/_split.py:2179: FutureWarning: From version 0.21, test_size will always complement train_size unless both are specified.\n",
      "  FutureWarning)\n"
     ]
    },
    {
     "name": "stdout",
     "output_type": "stream",
     "text": [
      "Подбор параметра для:  /Volumes/GoogleDrive/Мой диск/Work/Experiment/Health_and_Personal_Care_5\n",
      "    \n",
      "Бинаризируем столбец признаков\n",
      "c подбираем\n",
      "Accuracy for C=0.001: 0.786006006006006\n",
      "Accuracy for C=0.01: 0.8034234234234234\n",
      "Accuracy for C=0.05: 0.8253453453453453\n",
      "Accuracy for C=0.25: 0.8500900900900901\n",
      "Accuracy for C=0.1: 0.8363963963963964\n",
      "Accuracy for C=1: 0.8606606606606607\n",
      "Accuracy for C=5: 0.8617417417417418\n",
      "Accuracy for C=5.1: 0.8618618618618619\n",
      "Accuracy for C=5.2: 0.8618618618618619\n",
      "Accuracy for C=5.3: 0.862042042042042\n",
      "Accuracy for C=5.4: 0.862042042042042\n",
      "Accuracy for C=6: 0.8618018018018018\n",
      "Accuracy for C=8: 0.8601201201201201\n",
      "Accuracy for C=10: 0.8595795795795795\n"
     ]
    },
    {
     "name": "stderr",
     "output_type": "stream",
     "text": [
      "/anaconda3/lib/python3.7/site-packages/sklearn/linear_model/sag.py:334: ConvergenceWarning: The max_iter was reached which means the coef_ did not converge\n",
      "  \"the coef_ did not converge\", ConvergenceWarning)\n"
     ]
    },
    {
     "name": "stdout",
     "output_type": "stream",
     "text": [
      "Accuracy for C=100: 0.841921921921922\n",
      "Accuracy for C=1000: 0.8302702702702702\n",
      "The best C is  5.4\n",
      "Final Accuracy: 0.862042042042042\n",
      "confusion_matrix\n",
      "[[7144 1164]\n",
      " [1133 7209]]\n",
      "classification_report\n",
      "              precision    recall  f1-score   support\n",
      "\n",
      "          -1       0.86      0.86      0.86      8308\n",
      "           1       0.86      0.86      0.86      8342\n",
      "\n",
      "   micro avg       0.86      0.86      0.86     16650\n",
      "   macro avg       0.86      0.86      0.86     16650\n",
      "weighted avg       0.86      0.86      0.86     16650\n",
      "\n",
      "roc crivai\n"
     ]
    },
    {
     "data": {
      "image/png": "[encoded data removed]",
      "text/plain": [
       "<Figure size 432x288 with 1 Axes>"
      ]
     },
     "metadata": {
      "needs_background": "light"
     },
     "output_type": "display_data"
    },
    {
     "name": "stdout",
     "output_type": "stream",
     "text": [
      "('usedbut', 36.97507238292843)\n",
      "('pleasantly', 32.903718369089354)\n",
      "('reallly', 30.169272856569982)\n",
      "('highly', 28.634844628122583)\n",
      "('staini', 28.626486061178216)\n",
      "('reducers', 28.186243699899276)\n",
      "('outings', 28.032844615877668)\n",
      "('sparring', 26.175208597347993)\n",
      "('countless', 26.15284669234104)\n",
      "('evil', 26.002301899761555)\n",
      "('lemongrass', 25.973975608466574)\n",
      "('effecientlythankfully', 24.482116913628662)\n",
      "('uprooting', 24.43135357540221)\n",
      "('disappear', 24.20496008673659)\n",
      "('perfect', 24.022338472330283)\n",
      "('great', 23.930891231251746)\n",
      "('reinforce', 23.866657877307507)\n",
      "('prescriptions', 23.29562774275609)\n",
      "('injectors', 22.981305129315444)\n",
      "('allows', 22.837314619528836)\n",
      "('newsletter', 22.82076037538012)\n",
      "('outstanding', 22.802951795386775)\n",
      "('upkeep', 22.50932335350373)\n",
      "('bored', 22.481809841242384)\n",
      "('swims', 22.11060239231436)\n",
      "('shame', -31.609253980352186)\n",
      "('worthless', -30.909160879674022)\n",
      "('disappointing', -28.254147067679316)\n",
      "('not', -28.24709716680203)\n",
      "('useless', -28.21390637638664)\n",
      "('threw', -27.61326282009494)\n",
      "('clogs', -26.447736968544447)\n",
      "('indication', -25.829258985352862)\n",
      "('disappointment', -25.442422372353427)\n",
      "('dangerous', -25.096012371804836)\n",
      "('return', -25.017339294344982)\n",
      "('worst', -24.901197776201553)\n",
      "('betterfor', -24.691588421087275)\n",
      "('cheapen', -24.521470246470113)\n",
      "('unacceptable', -24.07791356053851)\n",
      "('complements', -24.02334298249016)\n",
      "('disappointed', -23.947615064742035)\n",
      "('anus', -23.867534924791062)\n",
      "('goop', -23.810270357659416)\n",
      "('outweighing', -23.745766148046098)\n",
      "('emptor', -23.647748259537533)\n",
      "('anatomical', -23.581522564648303)\n",
      "('unhandy', -23.33836790965325)\n",
      "('defeats', -23.170662282673014)\n",
      "('murker', -23.049470449853928)\n",
      "Movies_and_TV_5\n",
      "   \n"
     ]
    }
   ],
   "source": [
    "import os\n",
    "import gc\n",
    "gc.collect()\n",
    "\n",
    "os.listdir('/Volumes/GoogleDrive/Мой диск/Work/Experiment')\n",
    "\n",
    "for i in os.listdir('/Volumes/GoogleDrive/Мой диск/Work/Experiment'):\n",
    "    if i[-5:] != 'ipynb'and i[-3:] != 'csv' and i != '.ipynb_checkpoints': # and i = 'Health_and_Personal_Care_5.json':\n",
    "        print (i[:-5])\n",
    "        print ('   ')\n",
    "        \n",
    "        \n",
    "        x,y = prepare_dataset ('/Volumes/GoogleDrive/Мой диск/Work/Experiment/' + i)\n",
    "        \n",
    "        classify_it ('/Volumes/GoogleDrive/Мой диск/Work/Experiment/' + i,x,y)\n",
    "        \n",
    "        del x\n",
    "        del y\n",
    "        \n",
    "        gc.collect()\n",
    "        "
   ]
  },
  {
   "cell_type": "markdown",
   "metadata": {},
   "source": [
    "Comments\n",
    "\n",
    "https://habr.com/ru/company/ods/blog/323890/#1-lineynaya-regressiya\n",
    "\n",
    "https://docplayer.ru/28834116-Otchet-po-zadaniyu-4-issledovanie-modeli-logistic-regression.html\n",
    "\n",
    "https://scikit-learn.org/stable/modules/linear_model.html#logistic-regression\n",
    "\n",
    "https://scikit-learn.org/stable/modules/generated/sklearn.linear_model.LogisticRegression.html#sklearn.linear_model.LogisticRegression\n",
    "\n",
    "http://www.machinelearning.ru/wiki/index.php?title=%D0%9C%D0%B0%D1%88%D0%B8%D0%BD%D0%BD%D0%BE%D0%B5_%D0%BE%D0%B1%D1%83%D1%87%D0%B5%D0%BD%D0%B8%D0%B5_(%D0%BA%D1%83%D1%80%D1%81_%D0%BB%D0%B5%D0%BA%D1%86%D0%B8%D0%B9,_%D0%9A.%D0%92.%D0%92%D0%BE%D1%80%D0%BE%D0%BD%D1%86%D0%BE%D0%B2)#.D0.9E.D1.81.D0.BD.D0.BE.D0.B2.D0.BD.D1.8B.D0.B5_.D0.BF.D0.BE.D0.BD.D1.8F.D1.82.D0.B8.D1.8F_.D0.B8_.D0.BF.D1.80.D0.B8.D0.BC.D0.B5.D1.80.D1.8B_.D0.BF.D1.80.D0.B8.D0.BA.D0.BB.D0.B0.D0.B4.D0.BD.D1.8B.D1.85_.D0.B7.D0.B0.D0.B4.D0.B0.D1.87\n",
    "\n",
    "\n",
    "\n",
    "ROC:\n",
    "https://basegroup.ru/community/articles/logistic\n",
    "\n",
    "https://machinelearningmastery.com/roc-curves-and-precision-recall-curves-for-classification-in-python/\n",
    "\n",
    "https://towardsdatascience.com/building-a-logistic-regression-in-python-step-by-step-becd4d56c9c8"
   ]
  },
  {
   "cell_type": "code",
   "execution_count": null,
   "metadata": {},
   "outputs": [],
   "source": [
    "cv = TfidfVectorizer(min_df=10, decode_error='replace', encoding='utf-8')\n",
    "X = cv.fit_transform(X_train)\n",
    "# X_test = cv.transform(X_val)"
   ]
  },
  {
   "cell_type": "code",
   "execution_count": null,
   "metadata": {
    "ExecuteTime": {
     "end_time": "2019-05-31T09:59:30.549363Z",
     "start_time": "2019-05-31T09:59:30.537179Z"
    }
   },
   "outputs": [],
   "source": [
    "X_train = ['hi all', 'all stupid beaches', 'all ']\n",
    "\n",
    "\n",
    "cv = TfidfVectorizer(min_df=1, decode_error='replace', encoding='utf-8')\n",
    "X = cv.fit_transform(X_train)\n",
    "\n",
    "cv.get_feature_names()"
   ]
  },
  {
   "cell_type": "code",
   "execution_count": null,
   "metadata": {
    "ExecuteTime": {
     "end_time": "2019-05-31T09:54:09.820023Z",
     "start_time": "2019-05-31T09:54:09.812977Z"
    }
   },
   "outputs": [],
   "source": [
    "print (X.toarray())"
   ]
  },
  {
   "cell_type": "code",
   "execution_count": null,
   "metadata": {},
   "outputs": [],
   "source": []
  },
  {
   "cell_type": "code",
   "execution_count": null,
   "metadata": {},
   "outputs": [],
   "source": []
  }
 ],
 "metadata": {
  "kernelspec": {
   "display_name": "Python 3",
   "language": "python",
   "name": "python3"
  },
  "language_info": {
   "codemirror_mode": {
    "name": "ipython",
    "version": 3
   },
   "file_extension": ".py",
   "mimetype": "text/x-python",
   "name": "python",
   "nbconvert_exporter": "python",
   "pygments_lexer": "ipython3",
   "version": "3.7.3"
  },
  "toc": {
   "base_numbering": 1,
   "nav_menu": {},
   "number_sections": true,
   "sideBar": true,
   "skip_h1_title": false,
   "title_cell": "Table of Contents",
   "title_sidebar": "Contents",
   "toc_cell": false,
   "toc_position": {},
   "toc_section_display": true,
   "toc_window_display": false
  },
  "varInspector": {
   "cols": {
    "lenName": 16,
    "lenType": 16,
    "lenVar": 40
   },
   "kernels_config": {
    "python": {
     "delete_cmd_postfix": "",
     "delete_cmd_prefix": "del ",
     "library": "var_list.py",
     "varRefreshCmd": "print(var_dic_list())"
    },
    "r": {
     "delete_cmd_postfix": ") ",
     "delete_cmd_prefix": "rm(",
     "library": "var_list.r",
     "varRefreshCmd": "cat(var_dic_list()) "
    }
   },
   "types_to_exclude": [
    "module",
    "function",
    "builtin_function_or_method",
    "instance",
    "_Feature"
   ],
   "window_display": false
  }
 },
 "nbformat": 4,
 "nbformat_minor": 2
}
