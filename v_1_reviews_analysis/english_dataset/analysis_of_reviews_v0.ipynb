{
 "cells": [
  {
   "cell_type": "code",
   "execution_count": 1,
   "metadata": {},
   "outputs": [],
   "source": [
    "import pandas as pd\n",
    "import random\n",
    "import json"
   ]
  },
  {
   "cell_type": "code",
   "execution_count": 2,
   "metadata": {},
   "outputs": [],
   "source": [
    "def count_it(filename):\n",
    "    dict_cat = {}\n",
    "    good_count = 0\n",
    "    so_count = 0\n",
    "    bad_count = 0\n",
    "    \n",
    "    with open(filename, 'r') as f:\n",
    "        for line in f:\n",
    "            if json.loads(line)['overall'] > 3: \n",
    "                good_count += 1\n",
    "            \n",
    "            elif json.loads(line)['overall'] == 3:\n",
    "                so_count += 1\n",
    "\n",
    "            elif json.loads(line)['overall'] < 3: #and len(reviews_lst_bad)<=500000:\n",
    "                bad_count += 1\n",
    "    \n",
    "    dict_cat['good'] = good_count\n",
    "    dict_cat['so'] = so_count\n",
    "    dict_cat['bad'] = bad_count\n",
    "    \n",
    "    return dict_cat"
   ]
  },
  {
   "cell_type": "code",
   "execution_count": 3,
   "metadata": {},
   "outputs": [
    {
     "name": "stdout",
     "output_type": "stream",
     "text": [
      "Health_and_Personal_Care_5.json\n",
      "   \n",
      "{'good': 279801, 'so': 33254, 'bad': 33300}\n",
      "Movies_and_TV_5.json\n",
      "   \n",
      "{'good': 1289602, 'so': 201302, 'bad': 206629}\n",
      "Electronics_5.json\n",
      "   \n",
      "{'good': 1356067, 'so': 142257, 'bad': 190864}\n",
      "Books_5.json\n",
      "   \n",
      "{'good': 7203909, 'so': 955189, 'bad': 738943}\n"
     ]
    }
   ],
   "source": [
    "import os\n",
    "import gc\n",
    "\n",
    "os.listdir('/Volumes/GoogleDrive/Мой диск/Work/Experiment')\n",
    "\n",
    "for i in os.listdir('/Volumes/GoogleDrive/Мой диск/Work/Experiment'):\n",
    "    if i[-5:] != 'ipynb' and i != '.ipynb_checkpoints': # and i != 'Books_5.json':\n",
    "        print (i)\n",
    "        print ('   ')\n",
    "        d = count_it ('/Volumes/GoogleDrive/Мой диск/Work/Experiment/' + i)\n",
    "        print (d)\n",
    "        gc.collect()"
   ]
  },
  {
   "cell_type": "code",
   "execution_count": 4,
   "metadata": {},
   "outputs": [
    {
     "data": {
      "text/plain": [
       "{'good': 10, 'bad': 20}"
      ]
     },
     "execution_count": 4,
     "metadata": {},
     "output_type": "execute_result"
    }
   ],
   "source": [
    "dict_cat = {}\n",
    "dict_cat['good'] = 10\n",
    "dict_cat['bad'] = 20\n",
    "dict_cat"
   ]
  },
  {
   "cell_type": "code",
   "execution_count": null,
   "metadata": {},
   "outputs": [],
   "source": []
  }
 ],
 "metadata": {
  "kernelspec": {
   "display_name": "Python 3",
   "language": "python",
   "name": "python3"
  },
  "language_info": {
   "codemirror_mode": {
    "name": "ipython",
    "version": 3
   },
   "file_extension": ".py",
   "mimetype": "text/x-python",
   "name": "python",
   "nbconvert_exporter": "python",
   "pygments_lexer": "ipython3",
   "version": "3.7.3"
  }
 },
 "nbformat": 4,
 "nbformat_minor": 2
}
