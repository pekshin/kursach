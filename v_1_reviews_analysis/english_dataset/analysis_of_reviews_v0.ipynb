{
 "cells": [
  {
   "cell_type": "code",
   "execution_count": 1,
   "metadata": {},
   "outputs": [],
   "source": [
    "import pandas as pd\n",
    "import random\n",
    "import json"
   ]
  },
  {
   "cell_type": "code",
   "execution_count": 2,
   "metadata": {},
   "outputs": [],
   "source": [
    "def count_it(filename):\n",
    "    dict_cat = {}\n",
    "    good_count = 0\n",
    "    so_count = 0\n",
    "    bad_count = 0\n",
    "    \n",
    "    with open(filename, 'r') as f:\n",
    "        for line in f:\n",
    "            if json.loads(line)['overall'] > 3: \n",
    "                good_count += 1\n",
    "            \n",
    "            elif json.loads(line)['overall'] == 3:\n",
    "                so_count += 1\n",
    "\n",
    "            elif json.loads(line)['overall'] < 3: #and len(reviews_lst_bad)<=500000:\n",
    "                bad_count += 1\n",
    "    \n",
    "    dict_cat['good'] = good_count\n",
    "    dict_cat['so'] = so_count\n",
    "    dict_cat['bad'] = bad_count\n",
    "    \n",
    "    return dict_cat"
   ]
  },
  {
   "cell_type": "code",
   "execution_count": 3,
   "metadata": {},
   "outputs": [
    {
     "name": "stdout",
     "output_type": "stream",
     "text": [
      "Health_and_Personal_Care_5.json\n",
      "   \n",
      "{'good': 279801, 'so': 33254, 'bad': 33300}\n",
      "Movies_and_TV_5.json\n",
      "   \n",
      "{'good': 1289602, 'so': 201302, 'bad': 206629}\n",
      "Electronics_5.json\n",
      "   \n",
      "{'good': 1356067, 'so': 142257, 'bad': 190864}\n",
      "Books_5.json\n",
      "   \n",
      "{'good': 7203909, 'so': 955189, 'bad': 738943}\n",
      "reviews_Kindle_Store_5.json\n",
      "   \n",
      "{'good': 829277, 'so': 96194, 'bad': 57148}\n",
      "reviews_CDs_and_Vinyl_5.json\n",
      "   \n",
      "{'good': 903002, 'so': 101824, 'bad': 92766}\n"
     ]
    }
   ],
   "source": [
    "import os\n",
    "import gc\n",
    "\n",
    "os.listdir('/Volumes/GoogleDrive/Мой диск/Work/Experiment')\n",
    "\n",
    "for i in os.listdir('/Volumes/GoogleDrive/Мой диск/Work/Experiment'):\n",
    "    if i[-5:] != 'ipynb' and i != '.ipynb_checkpoints': # and i != 'Books_5.json':\n",
    "        print (i)\n",
    "        print ('   ')\n",
    "        d = count_it ('/Volumes/GoogleDrive/Мой диск/Work/Experiment/' + i)\n",
    "        print (d)\n",
    "        gc.collect()"
   ]
  },
  {
   "cell_type": "code",
   "execution_count": 4,
   "metadata": {},
   "outputs": [
    {
     "data": {
      "text/plain": [
       "{'good': 10, 'bad': 20}"
      ]
     },
     "execution_count": 4,
     "metadata": {},
     "output_type": "execute_result"
    }
   ],
   "source": [
    "dict_cat = {}\n",
    "dict_cat['good'] = 10\n",
    "dict_cat['bad'] = 20\n",
    "dict_cat"
   ]
  },
  {
   "cell_type": "code",
   "execution_count": 4,
   "metadata": {
    "ExecuteTime": {
     "end_time": "2019-06-01T11:08:33.774642Z",
     "start_time": "2019-06-01T11:08:33.597578Z"
    }
   },
   "outputs": [
    {
     "data": {
      "image/png": "[encoded data removed]",
      "text/plain": [
       "<Figure size 432x288 with 1 Axes>"
      ]
     },
     "metadata": {
      "needs_background": "light"
     },
     "output_type": "display_data"
    }
   ],
   "source": [
    "d = {'a': 1, 'b': 2, 'c': 4, 'j': 3}\n",
    "\n",
    "import csv\n",
    "from wordcloud import WordCloud\n",
    "import matplotlib.pyplot as plt\n",
    "\n",
    "\n",
    "#Generating wordcloud. Relative scaling value is to adjust the importance of a frequency word.\n",
    "#See documentation: https://github.com/amueller/word_cloud/blob/master/wordcloud/wordcloud.py\n",
    "wordcloud = WordCloud(width=900,height=500, max_words=1628,relative_scaling=1,normalize_plurals=False).generate_from_frequencies(d)\n",
    "\n",
    "plt.imshow(wordcloud, interpolation='bilinear')\n",
    "plt.axis(\"off\")\n",
    "plt.show()"
   ]
  },
  {
   "cell_type": "code",
   "execution_count": null,
   "metadata": {},
   "outputs": [],
   "source": []
  }
 ],
 "metadata": {
  "kernelspec": {
   "display_name": "Python 3",
   "language": "python",
   "name": "python3"
  },
  "language_info": {
   "codemirror_mode": {
    "name": "ipython",
    "version": 3
   },
   "file_extension": ".py",
   "mimetype": "text/x-python",
   "name": "python",
   "nbconvert_exporter": "python",
   "pygments_lexer": "ipython3",
   "version": "3.7.3"
  },
  "toc": {
   "base_numbering": 1,
   "nav_menu": {},
   "number_sections": true,
   "sideBar": true,
   "skip_h1_title": false,
   "title_cell": "Table of Contents",
   "title_sidebar": "Contents",
   "toc_cell": false,
   "toc_position": {},
   "toc_section_display": true,
   "toc_window_display": false
  },
  "varInspector": {
   "cols": {
    "lenName": 16,
    "lenType": 16,
    "lenVar": 40
   },
   "kernels_config": {
    "python": {
     "delete_cmd_postfix": "",
     "delete_cmd_prefix": "del ",
     "library": "var_list.py",
     "varRefreshCmd": "print(var_dic_list())"
    },
    "r": {
     "delete_cmd_postfix": ") ",
     "delete_cmd_prefix": "rm(",
     "library": "var_list.r",
     "varRefreshCmd": "cat(var_dic_list()) "
    }
   },
   "types_to_exclude": [
    "module",
    "function",
    "builtin_function_or_method",
    "instance",
    "_Feature"
   ],
   "window_display": false
  }
 },
 "nbformat": 4,
 "nbformat_minor": 2
}
