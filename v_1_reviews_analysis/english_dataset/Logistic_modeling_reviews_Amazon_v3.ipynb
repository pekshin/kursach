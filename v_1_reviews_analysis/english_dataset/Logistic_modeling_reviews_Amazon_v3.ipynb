{
 "cells": [
  {
   "cell_type": "markdown",
   "metadata": {},
   "source": [
    "# Импортируем необходимые библиотеки "
   ]
  },
  {
   "cell_type": "code",
   "execution_count": 7,
   "metadata": {
    "ExecuteTime": {
     "end_time": "2019-06-01T12:13:37.264595Z",
     "start_time": "2019-06-01T12:13:37.248064Z"
    }
   },
   "outputs": [
    {
     "name": "stderr",
     "output_type": "stream",
     "text": [
      "[nltk_data] Downloading package stopwords to /Users/user/nltk_data...\n",
      "[nltk_data]   Package stopwords is already up-to-date!\n"
     ]
    },
    {
     "data": {
      "text/plain": [
       "True"
      ]
     },
     "execution_count": 7,
     "metadata": {},
     "output_type": "execute_result"
    }
   ],
   "source": [
    "import json\n",
    "import pandas as pd\n",
    "import re\n",
    "import random\n",
    "import time\n",
    "import numpy as np\n",
    "import nltk\n",
    "from nltk.corpus import stopwords \n",
    "from sklearn.feature_extraction.text import TfidfVectorizer\n",
    "from sklearn.linear_model import LogisticRegression\n",
    "from sklearn.metrics import accuracy_score\n",
    "from sklearn.model_selection import train_test_split\n",
    "\n",
    "######## METRICS\n",
    "from sklearn.metrics import roc_auc_score\n",
    "from sklearn.metrics import accuracy_score\n",
    "from sklearn.metrics import f1_score\n",
    "from sklearn.metrics import balanced_accuracy_score\n",
    "from sklearn.metrics import precision_recall_curve\n",
    "\n",
    "from sklearn.metrics import classification_report\n",
    "from sklearn.metrics import roc_auc_score\n",
    "from sklearn.metrics import roc_curve\n",
    "\n",
    "# matplotlib\n",
    "import numpy as np\n",
    "import matplotlib.mlab as mlab\n",
    "import matplotlib.pyplot as plt\n",
    "%matplotlib inline\n",
    "\n",
    "\n",
    "nltk.download('stopwords')"
   ]
  },
  {
   "cell_type": "markdown",
   "metadata": {},
   "source": [
    "# Функции, которые будут использоваться:\n",
    "    - preprocess_reviews - для удаления из отзывов всех лишних символов\n",
    "    - lemmatize - для лемматизации слов"
   ]
  },
  {
   "cell_type": "code",
   "execution_count": 8,
   "metadata": {
    "ExecuteTime": {
     "end_time": "2019-06-01T12:13:38.503342Z",
     "start_time": "2019-06-01T12:13:38.497244Z"
    }
   },
   "outputs": [],
   "source": [
    "from nltk import word_tokenize   \n",
    "from nltk.stem import WordNetLemmatizer\n",
    "\n",
    "\n",
    "\n",
    "from nltk.stem import PorterStemmer\n",
    "porter = PorterStemmer()\n",
    "\n",
    "\n",
    "\n",
    "class LemmaTokenizer(object):\n",
    "    def __init__(self):\n",
    "        self.wnl = WordNetLemmatizer()\n",
    "    def __call__(self, doc):\n",
    "        return [self.wnl.lemmatize(t) for t in word_tokenize(doc)]"
   ]
  },
  {
   "cell_type": "code",
   "execution_count": 19,
   "metadata": {
    "ExecuteTime": {
     "end_time": "2019-06-01T14:26:28.088759Z",
     "start_time": "2019-06-01T14:26:28.080591Z"
    }
   },
   "outputs": [
    {
     "name": "stdout",
     "output_type": "stream",
     "text": [
      "enjoy\n"
     ]
    },
    {
     "data": {
      "text/plain": [
       "'enjoy'"
      ]
     },
     "execution_count": 19,
     "metadata": {},
     "output_type": "execute_result"
    }
   ],
   "source": [
    "\n",
    "\n",
    "print(porter.stem(\"enjoyed\"))\n",
    "\n",
    "lemmatize(\"enjoyed\")"
   ]
  },
  {
   "cell_type": "code",
   "execution_count": 29,
   "metadata": {
    "ExecuteTime": {
     "end_time": "2019-06-01T14:33:49.490333Z",
     "start_time": "2019-06-01T14:33:49.480164Z"
    }
   },
   "outputs": [],
   "source": [
    "REPLACE_NO_SPACE = re.compile(\"[.;:!\\'?,\\\"()\\[\\]]\")\n",
    "REPLACE_WITH_SPACE = re.compile(\"(<br\\s*/><br\\s*/>)|(\\-)|(\\/)\")\n",
    "stop_words = stopwords.words('english')\n",
    "def preprocess_reviews(reviews):\n",
    "    reviews = [REPLACE_NO_SPACE.sub(\"\", line.lower()) for line in reviews]\n",
    "    reviews = [REPLACE_WITH_SPACE.sub(\" \", line) for line in reviews]\n",
    "    reviews = [REPLACE_WITH_SPACE.sub(\" \", line) for line in reviews]\n",
    "    return reviews\n",
    "def lemmatize(str_):\n",
    "    lst = str_.split(\" \")\n",
    "    lst_new = []\n",
    "    for i in lst:\n",
    "        if i not in stop_words:     \n",
    "            new = porter.stem(i)\n",
    "#             print (i, new)\n",
    "            lst_new.append (new)\n",
    "    return ' '.join(lst_new)"
   ]
  },
  {
   "cell_type": "markdown",
   "metadata": {},
   "source": [
    "# Главная функция (classify_it), в которую подставляется месторасположение файлов."
   ]
  },
  {
   "cell_type": "code",
   "execution_count": 32,
   "metadata": {
    "ExecuteTime": {
     "end_time": "2019-06-01T14:34:15.359872Z",
     "start_time": "2019-06-01T14:34:15.305624Z"
    }
   },
   "outputs": [],
   "source": [
    "from sklearn.utils import shuffle\n",
    "\n",
    "def prepare_dataset(filename):\n",
    "    i = 0\n",
    "    reviews_lst_good= []\n",
    "    reviews_lst_bad = []\n",
    "\n",
    "    #набираем список хороших/плохих отзывов, не более 75000 в каждом из списков\n",
    "    with open(filename, 'r') as f:\n",
    "            for line in f:\n",
    "                if json.loads(line)['overall'] > 3 and len(reviews_lst_good)<=500000:\n",
    "                    reviews_lst_good.append (json.loads(line))\n",
    "\n",
    "                elif json.loads(line)['overall'] < 3 and len(reviews_lst_bad)<=500000:\n",
    "                    reviews_lst_bad.append (json.loads(line))\n",
    "\n",
    "                if len(reviews_lst_good) + len (reviews_lst_bad) == 1000000:\n",
    "                    break\n",
    "    \n",
    "    # перемешиваем список (внутри элементы одного класса)\n",
    "    shuffle(reviews_lst_good,random_state=241)  \n",
    "    shuffle(reviews_lst_bad,random_state=241)  \n",
    "    \n",
    "    # создаём template для сохранения конечных отзывов\n",
    "    reviewText_lst = []\n",
    "    mark_lst = []\n",
    "    \n",
    "    \n",
    "    # где будем уменьшать количество отзывов, чтобы их было равное количество\n",
    "    if len (reviews_lst_bad) < len(reviews_lst_good):\n",
    "        count_otz = len (reviews_lst_bad)\n",
    "    else:\n",
    "        count_otz = len (reviews_lst_good)\n",
    "        \n",
    "    \n",
    "    # i -- это СЛОВАРЬ!        \n",
    "    # обрезаем хороший и наполняем уже итоговый список\n",
    "    for i in reviews_lst_good[:count_otz]:\n",
    "        reviewText_lst.append (i['reviewText']) # можно прописать лемматизацию lemmatize()\n",
    "        mark_lst.append (1)\n",
    "    print ('Good: ',len(reviews_lst_good[:count_otz]))\n",
    "\n",
    "    # обрезаем плохие\n",
    "    for i in reviews_lst_bad[:count_otz]:\n",
    "        reviewText_lst.append (i['reviewText'])\n",
    "        mark_lst.append (0) # -1\n",
    "    print ('Bad: ',len(reviews_lst_bad[:count_otz]))\n",
    "\n",
    "    return reviewText_lst, mark_lst\n",
    "    \n",
    "def classify_it(filename, reviewText_lst, mark_lst):  \n",
    "    \n",
    "    # выборки готовы к передачи в модель\n",
    "    reviews_train = reviewText_lst\n",
    "    y = mark_lst\n",
    "    \n",
    "    reviews_train_clean = []\n",
    "    # очищаем отзывы от лишних символов\n",
    "    reviews_train_clean_pre = preprocess_reviews(reviews_train)\n",
    "    \n",
    "    for i in reviews_train_clean_pre:\n",
    "        reviews_train_clean.append (lemmatize(i))\n",
    "    \n",
    "    \n",
    "    \n",
    "#     print (reviews_train_clean[:4])\n",
    "    \n",
    "    # делим выборку на тестовую и обучающую\n",
    "    X_train, X_val, y_train, y_val = train_test_split(\n",
    "        reviews_train_clean, y, train_size = 0.75, random_state=241\n",
    "    )  \n",
    "    \n",
    "    # столбец ответов \n",
    "    \n",
    "\n",
    "    print ('Подбор параметра для: ', filename[:-5])\n",
    "    print ('    ')\n",
    "    best_c_dict = {} # модель сама ищет лучший c и его результаты подбирает в итоге\n",
    "    c_list = []\n",
    "    result_c_list = []      \n",
    "   \n",
    "    time_lst_fit = []\n",
    "    time_frcst_lst = []\n",
    "    result_time_fit_lst = []\n",
    "    result_time_frcst_lst = []\n",
    "    \n",
    "    # определяем, где алгоритму необходимо искать С\n",
    "    \n",
    "    # 0.0001,0.001,0.01,0.05,0.25,0.1,\n",
    "    \n",
    "    grid = [5]\n",
    "    \n",
    "    \n",
    "    print ('Бинаризируем столбец признаков')\n",
    "    # бинаризируем столбец признаков\n",
    "    cv = TfidfVectorizer(min_df=4, decode_error='replace', encoding='utf-8', norm='l2', use_idf=True, smooth_idf=True, sublinear_tf=False)\n",
    "    X = cv.fit_transform(X_train)\n",
    "    X_test = cv.transform(X_val)\n",
    "\n",
    "    print ('c подбираем')\n",
    "\n",
    "    \n",
    "    # итерируемся и подбираем параметр, используя Accuracy\n",
    "    for c in grid:\n",
    "        \n",
    "        final_model = LogisticRegression(C=c, solver= 'sag',random_state=241)\n",
    "        \n",
    "        startTime = time.time()\n",
    "        final_model.fit(X, y_train) ######\n",
    "        resultTime = time.time() - startTime\n",
    "        time_lst_fit.append (resultTime)\n",
    "        \n",
    "        startTime = time.time()\n",
    "        y_pred = final_model.predict(X_test) #####\n",
    "        resultTime = time.time() - startTime\n",
    "        time_frcst_lst.append (resultTime)\n",
    "        \n",
    "        print (\"Accuracy for C=%s: %s\" \n",
    "               % (c, accuracy_score(y_val, y_pred)))\n",
    "        \n",
    "        c_list.append (c)\n",
    "        result_c_list.append (accuracy_score(y_val, y_pred))\n",
    "        best_c_dict [c] = accuracy_score(y_val, y_pred)\n",
    "        \n",
    "    \n",
    "    # записываем результаты подбора коэффициента c\n",
    "    result_с = pd.DataFrame()\n",
    "    result_с['c'] = c_list\n",
    "    result_с ['result_acc'] = result_c_list\n",
    "    result_с['fit_time'] = time_lst_fit\n",
    "    result_с['forecast_time'] = time_frcst_lst\n",
    "#     result_с.to_csv (filename[:-5]+'_podbor_c_v1.csv', index=False)\n",
    "    ###########################################################################\n",
    "    \n",
    "    inverse = [(value, key) for key, value in best_c_dict.items()]\n",
    "    print ('The best C is ', max(inverse)[1])\n",
    "    \n",
    "    \n",
    "    ### строим предсказание с лучшим c ++ считаем потраченное время\n",
    "    final_model_last = LogisticRegression(C=max(inverse)[1], solver= 'sag',random_state=241)\n",
    "    final_model_last.fit(X, y_train)\n",
    "    y_pred_last = final_model_last.predict(X_test)\n",
    "    ################\n",
    "\n",
    "    # смотрим на метрики \n",
    "    print (\"Final Accuracy: %s\" \n",
    "           % accuracy_score(y_val\n",
    "                            , y_pred_last))\n",
    "    \n",
    "    print('confusion_matrix')\n",
    "    from sklearn.metrics import confusion_matrix\n",
    "    confusion_matrix = confusion_matrix(y_val, y_pred_last)\n",
    "    print(confusion_matrix)\n",
    "    \n",
    "    print ('classification_report')\n",
    "    print(classification_report(y_val, y_pred_last))\n",
    "    \n",
    "    \n",
    "    print ('roc crivai')\n",
    "    \n",
    "\n",
    "    logit_roc_auc = roc_auc_score(y_val, y_pred_last)\n",
    "    fpr, tpr, thresholds = roc_curve(y_val, final_model_last.predict_proba(X_test)[:,1])\n",
    "    plt.figure()\n",
    "    \n",
    "    \n",
    "    data = {'fpr': fpr, 'tpr': tpr}\n",
    "    df = pd.DataFrame.from_dict(data)\n",
    "#     df.to_csv (filename[:-5]+'_roc_crivai_v1.csv', index=False)\n",
    "    \n",
    "    plt.plot(fpr, tpr, label='Logistic Regression (area = %0.2f)' % logit_roc_auc)\n",
    "    plt.plot([0, 1], [0, 1],'r--')\n",
    "    plt.xlim([0.0, 1.0])\n",
    "    plt.ylim([0.0, 1.05])\n",
    "    plt.xlabel('False Positive Rate')\n",
    "    plt.ylabel('True Positive Rate')\n",
    "    plt.title('Receiver operating characteristic')\n",
    "    plt.legend(loc=\"lower right\")\n",
    "    plt.savefig('Log_ROC')\n",
    "    plt.show()\n",
    "    \n",
    "    # выделяем слова, которые обладают самым большим весом\n",
    "    feature_to_coef = {\n",
    "    word: coef for word, coef in zip(\n",
    "        cv.get_feature_names(), final_model_last.coef_[0]\n",
    "        )\n",
    "    }\n",
    "    \n",
    "    \n",
    "    w_lst = []\n",
    "    we_lst = []\n",
    "    \n",
    "    for best_positive in sorted(\n",
    "        feature_to_coef.items(), \n",
    "        key=lambda x: x[1], \n",
    "        reverse=True)[:25]:\n",
    "        w_lst.append (best_positive[0])\n",
    "        we_lst.append (best_positive[1])\n",
    "    \n",
    "    \n",
    "    for best_negative in sorted(\n",
    "        feature_to_coef.items(), \n",
    "        key=lambda x: x[1])[:25]:\n",
    "#         print (best_negative)\n",
    "        w_lst.append (best_negative[0])\n",
    "        we_lst.append (best_negative[1])\n",
    "        \n",
    "    df_words = pd.DataFrame.from_dict({'words':w_lst,'weights':we_lst})\n",
    "    \n",
    "#     df_words.to_excel(filename[:-5]+'_words_v1.xlsx', index=False)\n",
    "    \n",
    "    print (df_words)\n",
    "    \n",
    "    del reviewText_lst\n",
    "    del X\n",
    "    del X_test\n",
    "    gc.collect()"
   ]
  },
  {
   "cell_type": "markdown",
   "metadata": {},
   "source": [
    "# Меняем расположение папки, где находятся наборы данных и запускаем все функции"
   ]
  },
  {
   "cell_type": "code",
   "execution_count": 33,
   "metadata": {
    "ExecuteTime": {
     "end_time": "2019-06-01T14:36:12.536984Z",
     "start_time": "2019-06-01T14:34:16.187087Z"
    },
    "scrolled": false
   },
   "outputs": [
    {
     "name": "stdout",
     "output_type": "stream",
     "text": [
      "Health_and_Personal_Care_5\n",
      "   \n",
      "Good:  33300\n",
      "Bad:  33300\n",
      "Подбор параметра для:  /Volumes/GoogleDrive/Мой диск/Work/Experiment/Health_and_Personal_Care_5\n",
      "    \n",
      "Бинаризируем столбец признаков\n",
      "c подбираем\n",
      "Accuracy for C=5: 0.8525525525525526\n",
      "The best C is  5\n",
      "Final Accuracy: 0.8525525525525526\n",
      "confusion_matrix\n",
      "[[7114 1179]\n",
      " [1276 7081]]\n",
      "classification_report\n",
      "              precision    recall  f1-score   support\n",
      "\n",
      "           0       0.85      0.86      0.85      8293\n",
      "           1       0.86      0.85      0.85      8357\n",
      "\n",
      "   micro avg       0.85      0.85      0.85     16650\n",
      "   macro avg       0.85      0.85      0.85     16650\n",
      "weighted avg       0.85      0.85      0.85     16650\n",
      "\n",
      "roc crivai\n"
     ]
    },
    {
     "data": {
      "image/png": "[encoded data removed]",
      "text/plain": [
       "<Figure size 432x288 with 1 Axes>"
      ]
     },
     "metadata": {
      "needs_background": "light"
     },
     "output_type": "display_data"
    },
    {
     "name": "stdout",
     "output_type": "stream",
     "text": [
      "         words    weights\n",
      "0        great   9.799497\n",
      "1       highli   9.556715\n",
      "2        excel   8.088258\n",
      "3      perfect   7.720519\n",
      "4         love   7.451315\n",
      "5         amaz   7.304115\n",
      "6    complaint   7.204439\n",
      "7         best   7.058083\n",
      "8         easi   6.694076\n",
      "9       awesom   6.394411\n",
      "10        glad   5.773560\n",
      "11    conjunct   5.615929\n",
      "12       worri   5.589637\n",
      "13        year   5.519067\n",
      "14      barber   5.299289\n",
      "15     downsid   5.224434\n",
      "16        beat   5.158196\n",
      "17     satisfi   5.144175\n",
      "18      cayenn   4.964851\n",
      "19     fantast   4.881596\n",
      "20        well   4.799798\n",
      "21       hesit   4.749799\n",
      "22     without   4.697760\n",
      "23      confid   4.581084\n",
      "24        good   4.541791\n",
      "25  disappoint -10.753410\n",
      "26      return  -9.003082\n",
      "27        wast  -8.530579\n",
      "28    unfortun  -8.461932\n",
      "29       sadli  -8.087585\n",
      "30       worst  -7.937769\n",
      "31       didnt  -7.848692\n",
      "32   worthless  -7.454389\n",
      "33       threw  -7.048616\n",
      "34        noth  -6.851652\n",
      "35      refund  -6.837973\n",
      "36        wors  -6.623284\n",
      "37        mayb  -6.271716\n",
      "38        poor  -6.238790\n",
      "39     useless  -6.173984\n",
      "40       sorri  -6.172667\n",
      "41      perhap  -6.071153\n",
      "42     terribl  -5.873877\n",
      "43        hype  -5.766241\n",
      "44   uncomfort  -5.687513\n",
      "45        idea  -5.495095\n",
      "46     concept  -5.495006\n",
      "47       money  -5.348003\n",
      "48     attempt  -5.098618\n",
      "49       shame  -5.026917\n"
     ]
    }
   ],
   "source": [
    "import os\n",
    "import gc\n",
    "gc.collect()\n",
    "\n",
    "os.listdir('/Volumes/GoogleDrive/Мой диск/Work/Experiment')\n",
    "\n",
    "for i in os.listdir('/Volumes/GoogleDrive/Мой диск/Work/Experiment'):\n",
    "    if i[-len('.json'):] == '.json' and i[-5:] != 'ipynb' and i[-3:] != 'csv' and i == 'Health_and_Personal_Care_5.json': # and i = 'Health_and_Personal_Care_5.json':\n",
    "        print (i[:-5])\n",
    "        print ('   ')\n",
    "        \n",
    "        \n",
    "        x,y = prepare_dataset ('/Volumes/GoogleDrive/Мой диск/Work/Experiment/' + i)\n",
    "        \n",
    "        classify_it ('/Volumes/GoogleDrive/Мой диск/Work/Experiment/' + i,x,y)\n",
    "        \n",
    "        del x\n",
    "        del y\n",
    "        \n",
    "        gc.collect()\n",
    "        "
   ]
  },
  {
   "cell_type": "markdown",
   "metadata": {},
   "source": [
    "Comments\n",
    "\n",
    "https://habr.com/ru/company/ods/blog/323890/#1-lineynaya-regressiya\n",
    "\n",
    "https://docplayer.ru/28834116-Otchet-po-zadaniyu-4-issledovanie-modeli-logistic-regression.html\n",
    "\n",
    "https://scikit-learn.org/stable/modules/linear_model.html#logistic-regression\n",
    "\n",
    "https://scikit-learn.org/stable/modules/generated/sklearn.linear_model.LogisticRegression.html#sklearn.linear_model.LogisticRegression\n",
    "\n",
    "http://www.machinelearning.ru/wiki/index.php?title=%D0%9C%D0%B0%D1%88%D0%B8%D0%BD%D0%BD%D0%BE%D0%B5_%D0%BE%D0%B1%D1%83%D1%87%D0%B5%D0%BD%D0%B8%D0%B5_(%D0%BA%D1%83%D1%80%D1%81_%D0%BB%D0%B5%D0%BA%D1%86%D0%B8%D0%B9,_%D0%9A.%D0%92.%D0%92%D0%BE%D1%80%D0%BE%D0%BD%D1%86%D0%BE%D0%B2)#.D0.9E.D1.81.D0.BD.D0.BE.D0.B2.D0.BD.D1.8B.D0.B5_.D0.BF.D0.BE.D0.BD.D1.8F.D1.82.D0.B8.D1.8F_.D0.B8_.D0.BF.D1.80.D0.B8.D0.BC.D0.B5.D1.80.D1.8B_.D0.BF.D1.80.D0.B8.D0.BA.D0.BB.D0.B0.D0.B4.D0.BD.D1.8B.D1.85_.D0.B7.D0.B0.D0.B4.D0.B0.D1.87\n",
    "\n",
    "\n",
    "\n",
    "ROC:\n",
    "https://basegroup.ru/community/articles/logistic\n",
    "\n",
    "https://machinelearningmastery.com/roc-curves-and-precision-recall-curves-for-classification-in-python/\n",
    "\n",
    "https://towardsdatascience.com/building-a-logistic-regression-in-python-step-by-step-becd4d56c9c8"
   ]
  },
  {
   "cell_type": "code",
   "execution_count": null,
   "metadata": {},
   "outputs": [],
   "source": [
    "cv = TfidfVectorizer(min_df=10, decode_error='replace', encoding='utf-8')\n",
    "X = cv.fit_transform(X_train)\n",
    "# X_test = cv.transform(X_val)"
   ]
  },
  {
   "cell_type": "code",
   "execution_count": null,
   "metadata": {
    "ExecuteTime": {
     "end_time": "2019-05-31T09:59:30.549363Z",
     "start_time": "2019-05-31T09:59:30.537179Z"
    }
   },
   "outputs": [],
   "source": [
    "X_train = ['hi all', 'all stupid beaches', 'all ']\n",
    "\n",
    "\n",
    "cv = TfidfVectorizer(min_df=1, decode_error='replace', encoding='utf-8')\n",
    "X = cv.fit_transform(X_train)\n",
    "\n",
    "cv.get_feature_names()"
   ]
  },
  {
   "cell_type": "code",
   "execution_count": null,
   "metadata": {
    "ExecuteTime": {
     "end_time": "2019-05-31T09:54:09.820023Z",
     "start_time": "2019-05-31T09:54:09.812977Z"
    }
   },
   "outputs": [],
   "source": [
    "print (X.toarray())"
   ]
  },
  {
   "cell_type": "code",
   "execution_count": null,
   "metadata": {},
   "outputs": [],
   "source": []
  },
  {
   "cell_type": "code",
   "execution_count": null,
   "metadata": {},
   "outputs": [],
   "source": []
  }
 ],
 "metadata": {
  "kernelspec": {
   "display_name": "Python 3",
   "language": "python",
   "name": "python3"
  },
  "language_info": {
   "codemirror_mode": {
    "name": "ipython",
    "version": 3
   },
   "file_extension": ".py",
   "mimetype": "text/x-python",
   "name": "python",
   "nbconvert_exporter": "python",
   "pygments_lexer": "ipython3",
   "version": "3.7.3"
  },
  "toc": {
   "base_numbering": 1,
   "nav_menu": {},
   "number_sections": true,
   "sideBar": true,
   "skip_h1_title": false,
   "title_cell": "Table of Contents",
   "title_sidebar": "Contents",
   "toc_cell": false,
   "toc_position": {},
   "toc_section_display": true,
   "toc_window_display": false
  },
  "varInspector": {
   "cols": {
    "lenName": 16,
    "lenType": 16,
    "lenVar": 40
   },
   "kernels_config": {
    "python": {
     "delete_cmd_postfix": "",
     "delete_cmd_prefix": "del ",
     "library": "var_list.py",
     "varRefreshCmd": "print(var_dic_list())"
    },
    "r": {
     "delete_cmd_postfix": ") ",
     "delete_cmd_prefix": "rm(",
     "library": "var_list.r",
     "varRefreshCmd": "cat(var_dic_list()) "
    }
   },
   "types_to_exclude": [
    "module",
    "function",
    "builtin_function_or_method",
    "instance",
    "_Feature"
   ],
   "window_display": false
  }
 },
 "nbformat": 4,
 "nbformat_minor": 2
}
