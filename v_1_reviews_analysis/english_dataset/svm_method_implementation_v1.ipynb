{
 "cells": [
  {
   "cell_type": "code",
   "execution_count": 1,
   "metadata": {
    "ExecuteTime": {
     "end_time": "2019-04-18T05:11:18.472666Z",
     "start_time": "2019-04-18T05:11:12.790483Z"
    }
   },
   "outputs": [],
   "source": [
    "import pandas as pd\n",
    "\n",
    "import numpy as np\n",
    "\n",
    "from sklearn import datasets\n",
    "\n",
    "from sklearn.model_selection import GridSearchCV\n",
    "\n",
    "from sklearn.svm import SVC\n",
    "\n",
    "from sklearn.feature_extraction.text import TfidfVectorizer\n",
    "\n",
    "from sklearn.model_selection import KFold"
   ]
  },
  {
   "cell_type": "code",
   "execution_count": 2,
   "metadata": {
    "ExecuteTime": {
     "end_time": "2019-04-18T05:12:13.159261Z",
     "start_time": "2019-04-18T05:11:18.486554Z"
    }
   },
   "outputs": [
    {
     "name": "stdout",
     "output_type": "stream",
     "text": [
      "1356067\n",
      "190864\n"
     ]
    }
   ],
   "source": [
    "import json\n",
    "import gc\n",
    "import random\n",
    "i = 0\n",
    "reviews_lst_good= []\n",
    "reviews_lst_bad = []\n",
    "count_good_comments = 0\n",
    "count_bad_comments = 0\n",
    "\n",
    "# G:\\\\Мой диск\\\\Work\\\\Experiment\\\\Electronics_5.json\n",
    "# /Volumes/GoogleDrive/Мой диск/Work/Experiment/Electronics_5.json\n",
    "with open('G:\\\\Мой диск\\\\Work\\\\Experiment\\\\Electronics_5.json', 'r') as f: # указать свой путь  /Volumes/GoogleDrive/Мой диск/Work/Experiment/Books_5.json\n",
    "        for line in f:\n",
    "            if json.loads(line)['overall'] > 3:\n",
    "                  count_good_comments += 1\n",
    "            elif json.loads(line)['overall'] < 3:\n",
    "                  count_bad_comments += 1\n",
    "            \n",
    "print (count_good_comments)\n",
    "print (count_bad_comments)"
   ]
  },
  {
   "cell_type": "code",
   "execution_count": 3,
   "metadata": {
    "ExecuteTime": {
     "end_time": "2019-04-18T05:12:15.390769Z",
     "start_time": "2019-04-18T05:12:13.177117Z"
    }
   },
   "outputs": [
    {
     "name": "stdout",
     "output_type": "stream",
     "text": [
      "5000\n"
     ]
    }
   ],
   "source": [
    "size_of_df = 5000 # min (count_good_comments, count_bad_comments)\n",
    "print (size_of_df)\n",
    "\n",
    "with open('G:\\\\Мой диск\\\\Work\\\\Experiment\\\\Electronics_5.json', 'r') as f: #/Volumes/GoogleDrive/Мой диск/Work/Experiment/Books_5.json\n",
    "        for line in f:\n",
    "            if json.loads(line)['overall'] > 3 and len(reviews_lst_good)<size_of_df:\n",
    "                reviews_lst_good.append (json.loads(line))\n",
    "            \n",
    "            elif json.loads(line)['overall'] < 3 and len(reviews_lst_bad)<size_of_df:\n",
    "                reviews_lst_bad.append (json.loads(line))\n",
    "\n",
    "            if len(reviews_lst_good) + len (reviews_lst_bad) == 10000:\n",
    "                break\n",
    "\n",
    "random.shuffle(reviews_lst_good)\n",
    "random.shuffle(reviews_lst_bad)\n",
    "       "
   ]
  },
  {
   "cell_type": "code",
   "execution_count": 4,
   "metadata": {
    "ExecuteTime": {
     "end_time": "2019-04-18T05:12:15.606532Z",
     "start_time": "2019-04-18T05:12:15.602562Z"
    }
   },
   "outputs": [
    {
     "name": "stdout",
     "output_type": "stream",
     "text": [
      "5000\n",
      "5000\n"
     ]
    }
   ],
   "source": [
    "print (len(reviews_lst_good))\n",
    "print (len(reviews_lst_bad))"
   ]
  },
  {
   "cell_type": "code",
   "execution_count": 5,
   "metadata": {
    "ExecuteTime": {
     "end_time": "2019-04-18T05:12:15.838658Z",
     "start_time": "2019-04-18T05:12:15.810425Z"
    }
   },
   "outputs": [],
   "source": [
    "reviewerID_lst = []\n",
    "reviewerName_lst = []\n",
    "reviewText_lst = []\n",
    "overall_lst = []\n",
    "summary_lst = []\n",
    "\n",
    "# reviews_lst [0]['overall']<5 #['asin']for \n",
    "\n",
    "for i in reviews_lst_good:\n",
    "    reviewerID_lst.append (i['reviewerID'])\n",
    "    reviewText_lst.append (i['reviewText'])\n",
    "    overall_lst.append (i['overall'])\n",
    "    summary_lst.append (i['summary'])\n",
    "    \n",
    "for i in reviews_lst_bad:\n",
    "    reviewerID_lst.append (i['reviewerID'])\n",
    "    reviewText_lst.append (i['reviewText'])\n",
    "    overall_lst.append (i['overall'])\n",
    "    summary_lst.append (i['summary'])\n",
    "    \n",
    "df = pd.DataFrame ()\n",
    "\n",
    "df['reviewerID'] = reviewerID_lst\n",
    "# df['reviewerName'] = reviewerName_lst\n",
    "df['reviewText'] = reviewText_lst\n",
    "df['overall'] = overall_lst\n",
    "df['summary'] = summary_lst"
   ]
  },
  {
   "cell_type": "code",
   "execution_count": 6,
   "metadata": {
    "ExecuteTime": {
     "end_time": "2019-04-18T05:12:16.251331Z",
     "start_time": "2019-04-18T05:12:16.230500Z"
    }
   },
   "outputs": [
    {
     "name": "stdout",
     "output_type": "stream",
     "text": [
      "5000\n",
      "5000\n"
     ]
    }
   ],
   "source": [
    "df ['mark'] = -1\n",
    "df.loc[df['overall'] > 3,'mark'] = 1\n",
    "\n",
    "print (len(df[df['mark'] > 0]))\n",
    "print (len(df[df['mark'] < 0]))"
   ]
  },
  {
   "cell_type": "code",
   "execution_count": 7,
   "metadata": {
    "ExecuteTime": {
     "end_time": "2019-04-18T05:12:16.664500Z",
     "start_time": "2019-04-18T05:12:16.613909Z"
    },
    "scrolled": true
   },
   "outputs": [
    {
     "data": {
      "text/html": [
       "<div>\n",
       "<style scoped>\n",
       "    .dataframe tbody tr th:only-of-type {\n",
       "        vertical-align: middle;\n",
       "    }\n",
       "\n",
       "    .dataframe tbody tr th {\n",
       "        vertical-align: top;\n",
       "    }\n",
       "\n",
       "    .dataframe thead th {\n",
       "        text-align: right;\n",
       "    }\n",
       "</style>\n",
       "<table border=\"1\" class=\"dataframe\">\n",
       "  <thead>\n",
       "    <tr style=\"text-align: right;\">\n",
       "      <th></th>\n",
       "      <th>reviewerID</th>\n",
       "      <th>reviewText</th>\n",
       "      <th>overall</th>\n",
       "      <th>summary</th>\n",
       "      <th>mark</th>\n",
       "    </tr>\n",
       "  </thead>\n",
       "  <tbody>\n",
       "    <tr>\n",
       "      <th>5000</th>\n",
       "      <td>A39AEX2G3SVZ8L</td>\n",
       "      <td>I am new to digital photography and was wary o...</td>\n",
       "      <td>2.0</td>\n",
       "      <td>[Inexpensive] but Limited Digital Camara</td>\n",
       "      <td>-1</td>\n",
       "    </tr>\n",
       "    <tr>\n",
       "      <th>5001</th>\n",
       "      <td>A2P5U7BDKKT7FW</td>\n",
       "      <td>The cable is very wobbly and sometimes disconn...</td>\n",
       "      <td>2.0</td>\n",
       "      <td>Cheap proprietary scam</td>\n",
       "      <td>-1</td>\n",
       "    </tr>\n",
       "    <tr>\n",
       "      <th>5002</th>\n",
       "      <td>A19GDOQK033YCM</td>\n",
       "      <td>I'm not exactly a headphone connoisseur but I ...</td>\n",
       "      <td>2.0</td>\n",
       "      <td>Very poor construction</td>\n",
       "      <td>-1</td>\n",
       "    </tr>\n",
       "    <tr>\n",
       "      <th>5003</th>\n",
       "      <td>A5JLAU2ARJ0BO</td>\n",
       "      <td>I bought the Coolpad after reading the positiv...</td>\n",
       "      <td>1.0</td>\n",
       "      <td>Does not seem to cool down my laptop</td>\n",
       "      <td>-1</td>\n",
       "    </tr>\n",
       "    <tr>\n",
       "      <th>5004</th>\n",
       "      <td>A227BIJ309IRM5</td>\n",
       "      <td>I bought two sets of these sensors and install...</td>\n",
       "      <td>2.0</td>\n",
       "      <td>Works ok for a while.</td>\n",
       "      <td>-1</td>\n",
       "    </tr>\n",
       "    <tr>\n",
       "      <th>5005</th>\n",
       "      <td>A35T6E4LDUG68M</td>\n",
       "      <td>Breaks and cracks easily. Too thin for protect...</td>\n",
       "      <td>1.0</td>\n",
       "      <td>Breaks easily.</td>\n",
       "      <td>-1</td>\n",
       "    </tr>\n",
       "    <tr>\n",
       "      <th>5006</th>\n",
       "      <td>A1GTHUO4BOBWCR</td>\n",
       "      <td>I wrote a review on this DVD player 2 weeks ag...</td>\n",
       "      <td>2.0</td>\n",
       "      <td>Worked great for 8 months, but now it's giving...</td>\n",
       "      <td>-1</td>\n",
       "    </tr>\n",
       "    <tr>\n",
       "      <th>5007</th>\n",
       "      <td>A1GUJ2DDBVMYDA</td>\n",
       "      <td>Good product but will not connect with Canon 7...</td>\n",
       "      <td>1.0</td>\n",
       "      <td>not compatible with 7d.</td>\n",
       "      <td>-1</td>\n",
       "    </tr>\n",
       "    <tr>\n",
       "      <th>5008</th>\n",
       "      <td>AFWMVMPB2WVP9</td>\n",
       "      <td>This item was such a HUGE disappointment. Init...</td>\n",
       "      <td>1.0</td>\n",
       "      <td>Poor Quality WILL NOT LAST!!!</td>\n",
       "      <td>-1</td>\n",
       "    </tr>\n",
       "    <tr>\n",
       "      <th>5009</th>\n",
       "      <td>A4MLAYF8FDJPX</td>\n",
       "      <td>I've had the same problems that others have al...</td>\n",
       "      <td>2.0</td>\n",
       "      <td>Sorta works</td>\n",
       "      <td>-1</td>\n",
       "    </tr>\n",
       "    <tr>\n",
       "      <th>5010</th>\n",
       "      <td>AV84AZLJGJQI6</td>\n",
       "      <td>The smaller crosspoint screwdriver won't engag...</td>\n",
       "      <td>2.0</td>\n",
       "      <td>Screwdriver Quality</td>\n",
       "      <td>-1</td>\n",
       "    </tr>\n",
       "    <tr>\n",
       "      <th>5011</th>\n",
       "      <td>A1H35YYYCHJ4QB</td>\n",
       "      <td>Pure crap.  To think, the $11 I spent ($6 + $5...</td>\n",
       "      <td>1.0</td>\n",
       "      <td>Don't waste your money</td>\n",
       "      <td>-1</td>\n",
       "    </tr>\n",
       "    <tr>\n",
       "      <th>5012</th>\n",
       "      <td>A3BSYRSX8N8FQ8</td>\n",
       "      <td>Great sound while they worked.  One earpiece j...</td>\n",
       "      <td>2.0</td>\n",
       "      <td>Worked for two weeks</td>\n",
       "      <td>-1</td>\n",
       "    </tr>\n",
       "    <tr>\n",
       "      <th>5013</th>\n",
       "      <td>A1M4Q59TC9CI6R</td>\n",
       "      <td>These headphones have poor sound quality. Alth...</td>\n",
       "      <td>2.0</td>\n",
       "      <td>You Get What You Pay For</td>\n",
       "      <td>-1</td>\n",
       "    </tr>\n",
       "    <tr>\n",
       "      <th>5014</th>\n",
       "      <td>A1BQ9NX14RQZVX</td>\n",
       "      <td>Philips just doesn't know what they're doing, ...</td>\n",
       "      <td>1.0</td>\n",
       "      <td>Nothing but problems</td>\n",
       "      <td>-1</td>\n",
       "    </tr>\n",
       "    <tr>\n",
       "      <th>5015</th>\n",
       "      <td>A23LM7S0TPQSCZ</td>\n",
       "      <td>The volume control degraded the sound quality ...</td>\n",
       "      <td>2.0</td>\n",
       "      <td>It degraded sound quality</td>\n",
       "      <td>-1</td>\n",
       "    </tr>\n",
       "    <tr>\n",
       "      <th>5016</th>\n",
       "      <td>AE4B8QAEJWJFS</td>\n",
       "      <td>Keeps falling off my camera.  Not like the ori...</td>\n",
       "      <td>1.0</td>\n",
       "      <td>Not Quite Right</td>\n",
       "      <td>-1</td>\n",
       "    </tr>\n",
       "    <tr>\n",
       "      <th>5017</th>\n",
       "      <td>A1XESQ7C7NNZX4</td>\n",
       "      <td>My rating is in strict relation to the retail ...</td>\n",
       "      <td>1.0</td>\n",
       "      <td>Way overhyped</td>\n",
       "      <td>-1</td>\n",
       "    </tr>\n",
       "    <tr>\n",
       "      <th>5018</th>\n",
       "      <td>A2R0SHL1G7GV38</td>\n",
       "      <td>Good product, responsive customer service repr...</td>\n",
       "      <td>2.0</td>\n",
       "      <td>It's good when it works !!!</td>\n",
       "      <td>-1</td>\n",
       "    </tr>\n",
       "    <tr>\n",
       "      <th>5019</th>\n",
       "      <td>A17T7F9NMNGXS0</td>\n",
       "      <td>Purchased this product and two weeks later it ...</td>\n",
       "      <td>1.0</td>\n",
       "      <td>Be Careful</td>\n",
       "      <td>-1</td>\n",
       "    </tr>\n",
       "    <tr>\n",
       "      <th>5020</th>\n",
       "      <td>A2EXIALPK106OW</td>\n",
       "      <td>When I heard about the Tungsten T I was very e...</td>\n",
       "      <td>2.0</td>\n",
       "      <td>Just not enough to offer</td>\n",
       "      <td>-1</td>\n",
       "    </tr>\n",
       "    <tr>\n",
       "      <th>5021</th>\n",
       "      <td>A2MTU2IXXZ35ZF</td>\n",
       "      <td>I watched Spiderm-man on a Bose set of speaker...</td>\n",
       "      <td>1.0</td>\n",
       "      <td>Just plain bad, even for Bose</td>\n",
       "      <td>-1</td>\n",
       "    </tr>\n",
       "    <tr>\n",
       "      <th>5022</th>\n",
       "      <td>A3AC34YWOMFD2X</td>\n",
       "      <td>Can I just put in my vote for the single worst...</td>\n",
       "      <td>1.0</td>\n",
       "      <td>impossibly convoluted. unbelievably frustrating.</td>\n",
       "      <td>-1</td>\n",
       "    </tr>\n",
       "    <tr>\n",
       "      <th>5023</th>\n",
       "      <td>A9RVMNULTTF34</td>\n",
       "      <td>I bought this because Amazon suggested togethe...</td>\n",
       "      <td>1.0</td>\n",
       "      <td>wrong information</td>\n",
       "      <td>-1</td>\n",
       "    </tr>\n",
       "    <tr>\n",
       "      <th>5024</th>\n",
       "      <td>A3O72DJ2MQ8930</td>\n",
       "      <td>I didn't buy this from Amazon. It was a delaye...</td>\n",
       "      <td>1.0</td>\n",
       "      <td>It's Going Back</td>\n",
       "      <td>-1</td>\n",
       "    </tr>\n",
       "    <tr>\n",
       "      <th>5025</th>\n",
       "      <td>A18ECOTOSEEGLQ</td>\n",
       "      <td>I've purchased Hoya filters in the past and wa...</td>\n",
       "      <td>2.0</td>\n",
       "      <td>Disappointed in Quality</td>\n",
       "      <td>-1</td>\n",
       "    </tr>\n",
       "    <tr>\n",
       "      <th>5026</th>\n",
       "      <td>A1F03GQAHBFVGU</td>\n",
       "      <td>Uncomfortable, below average microphone, decen...</td>\n",
       "      <td>2.0</td>\n",
       "      <td>Uncomfortable...microphone, decent sound</td>\n",
       "      <td>-1</td>\n",
       "    </tr>\n",
       "    <tr>\n",
       "      <th>5027</th>\n",
       "      <td>A1TX6FWFGA1QVO</td>\n",
       "      <td>Used this for all of about 5 minutes.  Couldn'...</td>\n",
       "      <td>1.0</td>\n",
       "      <td>Worthless</td>\n",
       "      <td>-1</td>\n",
       "    </tr>\n",
       "    <tr>\n",
       "      <th>5028</th>\n",
       "      <td>A165OWIWJVVYRR</td>\n",
       "      <td>It's funny reading the reviews below.  Like go...</td>\n",
       "      <td>1.0</td>\n",
       "      <td>iPhone killed this</td>\n",
       "      <td>-1</td>\n",
       "    </tr>\n",
       "    <tr>\n",
       "      <th>5029</th>\n",
       "      <td>A3DQWFWINN3V5A</td>\n",
       "      <td>This is an interesting device.  I bought three...</td>\n",
       "      <td>2.0</td>\n",
       "      <td>Problems</td>\n",
       "      <td>-1</td>\n",
       "    </tr>\n",
       "    <tr>\n",
       "      <th>...</th>\n",
       "      <td>...</td>\n",
       "      <td>...</td>\n",
       "      <td>...</td>\n",
       "      <td>...</td>\n",
       "      <td>...</td>\n",
       "    </tr>\n",
       "    <tr>\n",
       "      <th>9970</th>\n",
       "      <td>A3GASQRWPQW28W</td>\n",
       "      <td>This is a nicely made cable; however, there ar...</td>\n",
       "      <td>1.0</td>\n",
       "      <td>Nicely Made ... But Mine Was DOA</td>\n",
       "      <td>-1</td>\n",
       "    </tr>\n",
       "    <tr>\n",
       "      <th>9971</th>\n",
       "      <td>A3C9BNVWKPFB5X</td>\n",
       "      <td>We got StarTech VGA cable to watch hulu and am...</td>\n",
       "      <td>2.0</td>\n",
       "      <td>good while it lasted</td>\n",
       "      <td>-1</td>\n",
       "    </tr>\n",
       "    <tr>\n",
       "      <th>9972</th>\n",
       "      <td>AATXK33K48V2C</td>\n",
       "      <td>Want a pile of cheap cracked cd cases. Ya know...</td>\n",
       "      <td>1.0</td>\n",
       "      <td>Cheap crap!</td>\n",
       "      <td>-1</td>\n",
       "    </tr>\n",
       "    <tr>\n",
       "      <th>9973</th>\n",
       "      <td>A3OXLYDYG4S600</td>\n",
       "      <td>Speaking from real experience, don't waste you...</td>\n",
       "      <td>1.0</td>\n",
       "      <td>Don't waste your money on this overpriced ripoff</td>\n",
       "      <td>-1</td>\n",
       "    </tr>\n",
       "    <tr>\n",
       "      <th>9974</th>\n",
       "      <td>A28NNY8RA9EVW1</td>\n",
       "      <td>I have 4 of these 615's that are good for noth...</td>\n",
       "      <td>1.0</td>\n",
       "      <td>terrible...</td>\n",
       "      <td>-1</td>\n",
       "    </tr>\n",
       "    <tr>\n",
       "      <th>9975</th>\n",
       "      <td>A3CJ6S5FKXMZD4</td>\n",
       "      <td>the lens itself is amazing. gives really good ...</td>\n",
       "      <td>1.0</td>\n",
       "      <td>cheapst amazing picture quality...while it las...</td>\n",
       "      <td>-1</td>\n",
       "    </tr>\n",
       "    <tr>\n",
       "      <th>9976</th>\n",
       "      <td>A2W6LOH7S9WWY3</td>\n",
       "      <td>I own one of these. Every day or two, it will ...</td>\n",
       "      <td>1.0</td>\n",
       "      <td>Worse than useless</td>\n",
       "      <td>-1</td>\n",
       "    </tr>\n",
       "    <tr>\n",
       "      <th>9977</th>\n",
       "      <td>AM8LLUCVSDOQM</td>\n",
       "      <td>Tiffen filters use cheap, optically low-grade ...</td>\n",
       "      <td>1.0</td>\n",
       "      <td>WARNING:  CHEAP GLASS</td>\n",
       "      <td>-1</td>\n",
       "    </tr>\n",
       "    <tr>\n",
       "      <th>9978</th>\n",
       "      <td>A3HNADBFO4LTG</td>\n",
       "      <td>Not at all easy to install or use. There are m...</td>\n",
       "      <td>1.0</td>\n",
       "      <td>Bad News</td>\n",
       "      <td>-1</td>\n",
       "    </tr>\n",
       "    <tr>\n",
       "      <th>9979</th>\n",
       "      <td>A2T71JNR3C2DY1</td>\n",
       "      <td>I wanted to have a complete set of test probes...</td>\n",
       "      <td>1.0</td>\n",
       "      <td>Cheap, noisy, falls apart easily</td>\n",
       "      <td>-1</td>\n",
       "    </tr>\n",
       "    <tr>\n",
       "      <th>9980</th>\n",
       "      <td>A2LACIGK055V5W</td>\n",
       "      <td>I bought this handheld after seeing its impres...</td>\n",
       "      <td>2.0</td>\n",
       "      <td>Bought it, Could not find accessories for it, ...</td>\n",
       "      <td>-1</td>\n",
       "    </tr>\n",
       "    <tr>\n",
       "      <th>9981</th>\n",
       "      <td>A2RU6FF682VJ7Q</td>\n",
       "      <td>Someone said this tv has a great picture.Wrong...</td>\n",
       "      <td>1.0</td>\n",
       "      <td>Do NOT buy this product</td>\n",
       "      <td>-1</td>\n",
       "    </tr>\n",
       "    <tr>\n",
       "      <th>9982</th>\n",
       "      <td>A2N08RY87Z4EC5</td>\n",
       "      <td>I was going to use this to replace a mix of mo...</td>\n",
       "      <td>1.0</td>\n",
       "      <td>Lots of Interference</td>\n",
       "      <td>-1</td>\n",
       "    </tr>\n",
       "    <tr>\n",
       "      <th>9983</th>\n",
       "      <td>AYZB1IDGZ346X</td>\n",
       "      <td>Although it installed flawlessly and worked fi...</td>\n",
       "      <td>1.0</td>\n",
       "      <td>did not work, returned it</td>\n",
       "      <td>-1</td>\n",
       "    </tr>\n",
       "    <tr>\n",
       "      <th>9984</th>\n",
       "      <td>A1DS2PK3Z8DQEW</td>\n",
       "      <td>The Male end fits loosely into some inputs whi...</td>\n",
       "      <td>2.0</td>\n",
       "      <td>Eh...</td>\n",
       "      <td>-1</td>\n",
       "    </tr>\n",
       "    <tr>\n",
       "      <th>9985</th>\n",
       "      <td>A1FLK39UE4Q0UW</td>\n",
       "      <td>The poor quality photographs that this camera ...</td>\n",
       "      <td>1.0</td>\n",
       "      <td>Horror. The Horror.</td>\n",
       "      <td>-1</td>\n",
       "    </tr>\n",
       "    <tr>\n",
       "      <th>9986</th>\n",
       "      <td>A1B2IAWRXJESF4</td>\n",
       "      <td>I'm sure the advertised StarTech cable would'v...</td>\n",
       "      <td>1.0</td>\n",
       "      <td>DO NOT BUY FROM Apex Products!!!</td>\n",
       "      <td>-1</td>\n",
       "    </tr>\n",
       "    <tr>\n",
       "      <th>9987</th>\n",
       "      <td>A2DLK5DI4S3OIX</td>\n",
       "      <td>Within days of receiving this product, the rub...</td>\n",
       "      <td>2.0</td>\n",
       "      <td>Cheap price, cheap quality</td>\n",
       "      <td>-1</td>\n",
       "    </tr>\n",
       "    <tr>\n",
       "      <th>9988</th>\n",
       "      <td>A19YKFP1UA6XKE</td>\n",
       "      <td>Terrible, cheap wire. Flimsy with bad sound qu...</td>\n",
       "      <td>1.0</td>\n",
       "      <td>Awful</td>\n",
       "      <td>-1</td>\n",
       "    </tr>\n",
       "    <tr>\n",
       "      <th>9989</th>\n",
       "      <td>A3H12QDPX7QOKZ</td>\n",
       "      <td>They don't last half as long for me as they ar...</td>\n",
       "      <td>2.0</td>\n",
       "      <td>Over-hyped</td>\n",
       "      <td>-1</td>\n",
       "    </tr>\n",
       "    <tr>\n",
       "      <th>9990</th>\n",
       "      <td>A11JCTWMX14IGZ</td>\n",
       "      <td>this  cord is about 4' long.  I am using this ...</td>\n",
       "      <td>1.0</td>\n",
       "      <td>the cord is way to short  (4')</td>\n",
       "      <td>-1</td>\n",
       "    </tr>\n",
       "    <tr>\n",
       "      <th>9991</th>\n",
       "      <td>A1FMWLZ9YY91XI</td>\n",
       "      <td>My Handspring was a trusted resource for the f...</td>\n",
       "      <td>1.0</td>\n",
       "      <td>Great product...until you try to have it repaired</td>\n",
       "      <td>-1</td>\n",
       "    </tr>\n",
       "    <tr>\n",
       "      <th>9992</th>\n",
       "      <td>A3RBVD0DCH8CUZ</td>\n",
       "      <td>I recently got both versions of this device. A...</td>\n",
       "      <td>2.0</td>\n",
       "      <td>better buy mg</td>\n",
       "      <td>-1</td>\n",
       "    </tr>\n",
       "    <tr>\n",
       "      <th>9993</th>\n",
       "      <td>A31UHOIFMFSCN1</td>\n",
       "      <td>It is absolutely useless.  The pictures are gr...</td>\n",
       "      <td>1.0</td>\n",
       "      <td>This camera is HORRIBLE!</td>\n",
       "      <td>-1</td>\n",
       "    </tr>\n",
       "    <tr>\n",
       "      <th>9994</th>\n",
       "      <td>A2P0SF8FSBIOKM</td>\n",
       "      <td>I bought one of these units because of its wat...</td>\n",
       "      <td>2.0</td>\n",
       "      <td>NOT waterprof</td>\n",
       "      <td>-1</td>\n",
       "    </tr>\n",
       "    <tr>\n",
       "      <th>9995</th>\n",
       "      <td>A23ONMGKEWDG4M</td>\n",
       "      <td>First, it's my fault.  I did NOT clearly read ...</td>\n",
       "      <td>1.0</td>\n",
       "      <td>Watch OUT</td>\n",
       "      <td>-1</td>\n",
       "    </tr>\n",
       "    <tr>\n",
       "      <th>9996</th>\n",
       "      <td>A3GQQUFX7EKAKO</td>\n",
       "      <td>I have an unreliable connection with this cabl...</td>\n",
       "      <td>2.0</td>\n",
       "      <td>Intermitent failure</td>\n",
       "      <td>-1</td>\n",
       "    </tr>\n",
       "    <tr>\n",
       "      <th>9997</th>\n",
       "      <td>A1M1MJBMJDKEYU</td>\n",
       "      <td>My setup is Etymotic ER4P earphones (27ohms), ...</td>\n",
       "      <td>1.0</td>\n",
       "      <td>hiss, static, and feedback when using high-end...</td>\n",
       "      <td>-1</td>\n",
       "    </tr>\n",
       "    <tr>\n",
       "      <th>9998</th>\n",
       "      <td>AIVLKALMERRFT</td>\n",
       "      <td>I have bought many small radios over the years...</td>\n",
       "      <td>1.0</td>\n",
       "      <td>Disappointed</td>\n",
       "      <td>-1</td>\n",
       "    </tr>\n",
       "    <tr>\n",
       "      <th>9999</th>\n",
       "      <td>APM67OOLKFQ64</td>\n",
       "      <td>Product seems to be OK but if you run into any...</td>\n",
       "      <td>2.0</td>\n",
       "      <td>Don't waste your time</td>\n",
       "      <td>-1</td>\n",
       "    </tr>\n",
       "  </tbody>\n",
       "</table>\n",
       "<p>5000 rows × 5 columns</p>\n",
       "</div>"
      ],
      "text/plain": [
       "          reviewerID                                         reviewText  \\\n",
       "5000  A39AEX2G3SVZ8L  I am new to digital photography and was wary o...   \n",
       "5001  A2P5U7BDKKT7FW  The cable is very wobbly and sometimes disconn...   \n",
       "5002  A19GDOQK033YCM  I'm not exactly a headphone connoisseur but I ...   \n",
       "5003   A5JLAU2ARJ0BO  I bought the Coolpad after reading the positiv...   \n",
       "5004  A227BIJ309IRM5  I bought two sets of these sensors and install...   \n",
       "5005  A35T6E4LDUG68M  Breaks and cracks easily. Too thin for protect...   \n",
       "5006  A1GTHUO4BOBWCR  I wrote a review on this DVD player 2 weeks ag...   \n",
       "5007  A1GUJ2DDBVMYDA  Good product but will not connect with Canon 7...   \n",
       "5008   AFWMVMPB2WVP9  This item was such a HUGE disappointment. Init...   \n",
       "5009   A4MLAYF8FDJPX  I've had the same problems that others have al...   \n",
       "5010   AV84AZLJGJQI6  The smaller crosspoint screwdriver won't engag...   \n",
       "5011  A1H35YYYCHJ4QB  Pure crap.  To think, the $11 I spent ($6 + $5...   \n",
       "5012  A3BSYRSX8N8FQ8  Great sound while they worked.  One earpiece j...   \n",
       "5013  A1M4Q59TC9CI6R  These headphones have poor sound quality. Alth...   \n",
       "5014  A1BQ9NX14RQZVX  Philips just doesn't know what they're doing, ...   \n",
       "5015  A23LM7S0TPQSCZ  The volume control degraded the sound quality ...   \n",
       "5016   AE4B8QAEJWJFS  Keeps falling off my camera.  Not like the ori...   \n",
       "5017  A1XESQ7C7NNZX4  My rating is in strict relation to the retail ...   \n",
       "5018  A2R0SHL1G7GV38  Good product, responsive customer service repr...   \n",
       "5019  A17T7F9NMNGXS0  Purchased this product and two weeks later it ...   \n",
       "5020  A2EXIALPK106OW  When I heard about the Tungsten T I was very e...   \n",
       "5021  A2MTU2IXXZ35ZF  I watched Spiderm-man on a Bose set of speaker...   \n",
       "5022  A3AC34YWOMFD2X  Can I just put in my vote for the single worst...   \n",
       "5023   A9RVMNULTTF34  I bought this because Amazon suggested togethe...   \n",
       "5024  A3O72DJ2MQ8930  I didn't buy this from Amazon. It was a delaye...   \n",
       "5025  A18ECOTOSEEGLQ  I've purchased Hoya filters in the past and wa...   \n",
       "5026  A1F03GQAHBFVGU  Uncomfortable, below average microphone, decen...   \n",
       "5027  A1TX6FWFGA1QVO  Used this for all of about 5 minutes.  Couldn'...   \n",
       "5028  A165OWIWJVVYRR  It's funny reading the reviews below.  Like go...   \n",
       "5029  A3DQWFWINN3V5A  This is an interesting device.  I bought three...   \n",
       "...              ...                                                ...   \n",
       "9970  A3GASQRWPQW28W  This is a nicely made cable; however, there ar...   \n",
       "9971  A3C9BNVWKPFB5X  We got StarTech VGA cable to watch hulu and am...   \n",
       "9972   AATXK33K48V2C  Want a pile of cheap cracked cd cases. Ya know...   \n",
       "9973  A3OXLYDYG4S600  Speaking from real experience, don't waste you...   \n",
       "9974  A28NNY8RA9EVW1  I have 4 of these 615's that are good for noth...   \n",
       "9975  A3CJ6S5FKXMZD4  the lens itself is amazing. gives really good ...   \n",
       "9976  A2W6LOH7S9WWY3  I own one of these. Every day or two, it will ...   \n",
       "9977   AM8LLUCVSDOQM  Tiffen filters use cheap, optically low-grade ...   \n",
       "9978   A3HNADBFO4LTG  Not at all easy to install or use. There are m...   \n",
       "9979  A2T71JNR3C2DY1  I wanted to have a complete set of test probes...   \n",
       "9980  A2LACIGK055V5W  I bought this handheld after seeing its impres...   \n",
       "9981  A2RU6FF682VJ7Q  Someone said this tv has a great picture.Wrong...   \n",
       "9982  A2N08RY87Z4EC5  I was going to use this to replace a mix of mo...   \n",
       "9983   AYZB1IDGZ346X  Although it installed flawlessly and worked fi...   \n",
       "9984  A1DS2PK3Z8DQEW  The Male end fits loosely into some inputs whi...   \n",
       "9985  A1FLK39UE4Q0UW  The poor quality photographs that this camera ...   \n",
       "9986  A1B2IAWRXJESF4  I'm sure the advertised StarTech cable would'v...   \n",
       "9987  A2DLK5DI4S3OIX  Within days of receiving this product, the rub...   \n",
       "9988  A19YKFP1UA6XKE  Terrible, cheap wire. Flimsy with bad sound qu...   \n",
       "9989  A3H12QDPX7QOKZ  They don't last half as long for me as they ar...   \n",
       "9990  A11JCTWMX14IGZ  this  cord is about 4' long.  I am using this ...   \n",
       "9991  A1FMWLZ9YY91XI  My Handspring was a trusted resource for the f...   \n",
       "9992  A3RBVD0DCH8CUZ  I recently got both versions of this device. A...   \n",
       "9993  A31UHOIFMFSCN1  It is absolutely useless.  The pictures are gr...   \n",
       "9994  A2P0SF8FSBIOKM  I bought one of these units because of its wat...   \n",
       "9995  A23ONMGKEWDG4M  First, it's my fault.  I did NOT clearly read ...   \n",
       "9996  A3GQQUFX7EKAKO  I have an unreliable connection with this cabl...   \n",
       "9997  A1M1MJBMJDKEYU  My setup is Etymotic ER4P earphones (27ohms), ...   \n",
       "9998   AIVLKALMERRFT  I have bought many small radios over the years...   \n",
       "9999   APM67OOLKFQ64  Product seems to be OK but if you run into any...   \n",
       "\n",
       "      overall                                            summary  mark  \n",
       "5000      2.0           [Inexpensive] but Limited Digital Camara    -1  \n",
       "5001      2.0                             Cheap proprietary scam    -1  \n",
       "5002      2.0                             Very poor construction    -1  \n",
       "5003      1.0               Does not seem to cool down my laptop    -1  \n",
       "5004      2.0                              Works ok for a while.    -1  \n",
       "5005      1.0                                     Breaks easily.    -1  \n",
       "5006      2.0  Worked great for 8 months, but now it's giving...    -1  \n",
       "5007      1.0                            not compatible with 7d.    -1  \n",
       "5008      1.0                      Poor Quality WILL NOT LAST!!!    -1  \n",
       "5009      2.0                                        Sorta works    -1  \n",
       "5010      2.0                                Screwdriver Quality    -1  \n",
       "5011      1.0                             Don't waste your money    -1  \n",
       "5012      2.0                               Worked for two weeks    -1  \n",
       "5013      2.0                           You Get What You Pay For    -1  \n",
       "5014      1.0                               Nothing but problems    -1  \n",
       "5015      2.0                          It degraded sound quality    -1  \n",
       "5016      1.0                                    Not Quite Right    -1  \n",
       "5017      1.0                                      Way overhyped    -1  \n",
       "5018      2.0                        It's good when it works !!!    -1  \n",
       "5019      1.0                                         Be Careful    -1  \n",
       "5020      2.0                           Just not enough to offer    -1  \n",
       "5021      1.0                      Just plain bad, even for Bose    -1  \n",
       "5022      1.0   impossibly convoluted. unbelievably frustrating.    -1  \n",
       "5023      1.0                                  wrong information    -1  \n",
       "5024      1.0                                    It's Going Back    -1  \n",
       "5025      2.0                            Disappointed in Quality    -1  \n",
       "5026      2.0           Uncomfortable...microphone, decent sound    -1  \n",
       "5027      1.0                                          Worthless    -1  \n",
       "5028      1.0                                 iPhone killed this    -1  \n",
       "5029      2.0                                           Problems    -1  \n",
       "...       ...                                                ...   ...  \n",
       "9970      1.0                   Nicely Made ... But Mine Was DOA    -1  \n",
       "9971      2.0                               good while it lasted    -1  \n",
       "9972      1.0                                        Cheap crap!    -1  \n",
       "9973      1.0   Don't waste your money on this overpriced ripoff    -1  \n",
       "9974      1.0                                        terrible...    -1  \n",
       "9975      1.0  cheapst amazing picture quality...while it las...    -1  \n",
       "9976      1.0                                 Worse than useless    -1  \n",
       "9977      1.0                              WARNING:  CHEAP GLASS    -1  \n",
       "9978      1.0                                           Bad News    -1  \n",
       "9979      1.0                   Cheap, noisy, falls apart easily    -1  \n",
       "9980      2.0  Bought it, Could not find accessories for it, ...    -1  \n",
       "9981      1.0                            Do NOT buy this product    -1  \n",
       "9982      1.0                               Lots of Interference    -1  \n",
       "9983      1.0                          did not work, returned it    -1  \n",
       "9984      2.0                                              Eh...    -1  \n",
       "9985      1.0                                Horror. The Horror.    -1  \n",
       "9986      1.0                   DO NOT BUY FROM Apex Products!!!    -1  \n",
       "9987      2.0                         Cheap price, cheap quality    -1  \n",
       "9988      1.0                                              Awful    -1  \n",
       "9989      2.0                                         Over-hyped    -1  \n",
       "9990      1.0                     the cord is way to short  (4')    -1  \n",
       "9991      1.0  Great product...until you try to have it repaired    -1  \n",
       "9992      2.0                                      better buy mg    -1  \n",
       "9993      1.0                           This camera is HORRIBLE!    -1  \n",
       "9994      2.0                                      NOT waterprof    -1  \n",
       "9995      1.0                                          Watch OUT    -1  \n",
       "9996      2.0                                Intermitent failure    -1  \n",
       "9997      1.0  hiss, static, and feedback when using high-end...    -1  \n",
       "9998      1.0                                       Disappointed    -1  \n",
       "9999      2.0                              Don't waste your time    -1  \n",
       "\n",
       "[5000 rows x 5 columns]"
      ]
     },
     "execution_count": 7,
     "metadata": {},
     "output_type": "execute_result"
    }
   ],
   "source": [
    "df[(df['mark'] != 0)&(df['mark'] != 1)]"
   ]
  },
  {
   "cell_type": "code",
   "execution_count": 8,
   "metadata": {
    "ExecuteTime": {
     "end_time": "2019-04-18T05:12:17.151093Z",
     "start_time": "2019-04-18T05:12:17.131243Z"
    }
   },
   "outputs": [],
   "source": [
    "reviews_train = list(df[df['overall'] > 3]['reviewText'][:-100]) + list(df[df['overall'] < 3]['reviewText'][:-100])\n",
    "reviews_test = list(df[df['overall'] > 3]['reviewText'][-100:]) + list(df[df['overall'] < 3]['reviewText'][-100:])"
   ]
  },
  {
   "cell_type": "code",
   "execution_count": 9,
   "metadata": {
    "ExecuteTime": {
     "end_time": "2019-04-18T05:12:20.523388Z",
     "start_time": "2019-04-18T05:12:17.735380Z"
    }
   },
   "outputs": [],
   "source": [
    "import re\n",
    "from nltk.corpus import stopwords \n",
    "\n",
    "REPLACE_NO_SPACE = re.compile(\"[.;:!\\'?,\\\"()\\[\\]]\")\n",
    "REPLACE_WITH_SPACE = re.compile(\"(<br\\s*/><br\\s*/>)|(\\-)|(\\/)\")\n",
    "\n",
    "def preprocess_reviews(reviews):\n",
    "    reviews = [REPLACE_NO_SPACE.sub(\"\", line.lower()) for line in reviews]\n",
    "    reviews = [REPLACE_WITH_SPACE.sub(\" \", line) for line in reviews]\n",
    "    \n",
    "    return reviews\n",
    "\n",
    "reviews_train_clean = preprocess_reviews(reviews_train)\n",
    "reviews_test_clean = preprocess_reviews(reviews_test)"
   ]
  },
  {
   "cell_type": "code",
   "execution_count": 24,
   "metadata": {
    "ExecuteTime": {
     "end_time": "2019-04-18T05:21:02.808492Z",
     "start_time": "2019-04-18T05:21:02.805035Z"
    }
   },
   "outputs": [],
   "source": [
    "my_stopword_list = set(stopwords.words('english'))\n",
    "# my_stopword_list"
   ]
  },
  {
   "cell_type": "code",
   "execution_count": 10,
   "metadata": {
    "ExecuteTime": {
     "end_time": "2019-04-18T05:12:21.029310Z",
     "start_time": "2019-04-18T05:12:21.022366Z"
    }
   },
   "outputs": [],
   "source": [
    "from sklearn import datasets\n",
    "\n",
    "from sklearn.model_selection import GridSearchCV\n",
    "\n",
    "from sklearn.svm import SVC\n",
    "\n",
    "from sklearn.feature_extraction.text import TfidfVectorizer\n",
    "\n",
    "from sklearn.model_selection import KFold\n",
    "\n",
    "from sklearn.model_selection import train_test_split"
   ]
  },
  {
   "cell_type": "code",
   "execution_count": 25,
   "metadata": {
    "ExecuteTime": {
     "end_time": "2019-04-18T05:21:15.915935Z",
     "start_time": "2019-04-18T05:21:15.131757Z"
    }
   },
   "outputs": [
    {
     "data": {
      "text/plain": [
       "<9800x36546 sparse matrix of type '<class 'numpy.float64'>'\n",
       "\twith 466738 stored elements in Compressed Sparse Row format>"
      ]
     },
     "execution_count": 25,
     "metadata": {},
     "output_type": "execute_result"
    }
   ],
   "source": [
    "y = list(df[df['overall'] > 3]['mark'][:-100]) + list(df[df['overall'] < 3]['mark'][:-100])\n",
    "\n",
    "X = reviews_train_clean\n",
    "\n",
    "X_train, X_val, y_train, y_val = train_test_split(\n",
    "    X, y, train_size = 0.75\n",
    ")\n",
    "\n",
    "\n",
    "vectorizer = TfidfVectorizer(stop_words=my_stopword_list) # , max_features = 35000 # создали генератор признаков \n",
    "\n",
    "vectorizer.fit_transform(X)"
   ]
  },
  {
   "cell_type": "code",
   "execution_count": 26,
   "metadata": {
    "ExecuteTime": {
     "end_time": "2019-04-18T05:21:19.365804Z",
     "start_time": "2019-04-18T05:21:19.361321Z"
    }
   },
   "outputs": [
    {
     "data": {
      "text/plain": [
       "TfidfVectorizer(analyzer='word', binary=False, decode_error='strict',\n",
       "        dtype=<class 'numpy.float64'>, encoding='utf-8', input='content',\n",
       "        lowercase=True, max_df=1.0, max_features=None, min_df=1,\n",
       "        ngram_range=(1, 1), norm='l2', preprocessor=None, smooth_idf=True,\n",
       "        stop_words={'with', 'had', 'about', 'was', 'same', 'few', 'by', 'yours', 'or', \"shouldn't\", 'mightn', 'any', \"mightn't\", 'between', 'now', 'a', 'in', 'do', 'only', 'into', 'hasn', \"you'll\", 'where', 'nor', 'some', 'have', 'just', 'y', 'hadn', 'each', 'were', 'are', 'ourselves', \"hadn't\", 'your', 'bu...edn', 'he', 'whom', 'wasn', 'all', 'shan', 'couldn', 'i', 'she', 'be', 'before', 's', 'didn', 'don'},\n",
       "        strip_accents=None, sublinear_tf=False,\n",
       "        token_pattern='(?u)\\\\b\\\\w\\\\w+\\\\b', tokenizer=None, use_idf=True,\n",
       "        vocabulary=None)"
      ]
     },
     "execution_count": 26,
     "metadata": {},
     "output_type": "execute_result"
    }
   ],
   "source": [
    "# 36681 --без max features\n",
    "vectorizer"
   ]
  },
  {
   "cell_type": "code",
   "execution_count": null,
   "metadata": {
    "ExecuteTime": {
     "start_time": "2019-04-11T08:26:12.152Z"
    }
   },
   "outputs": [],
   "source": [
    "# grid = {'C': np.power(10.0, np.arange(-5, 6))}\n",
    "\n",
    "# cv = KFold(5, shuffle=True, random_state=241) # делим на 5 блоков\n",
    "\n",
    "# model = SVC(kernel='linear', random_state=241) # устанавливаем линейной ядро у SVM\n",
    "\n",
    "# gs = GridSearchCV(model, grid, scoring='accuracy', cv=cv) # показываем, чтобы использовал модель нашу \n",
    "# # + искал параметр C сам из диапозона, метод для валивации KFold\n",
    "\n",
    "# gs.fit(vectorizer.transform(X), y)\n",
    "\n",
    "\n",
    "\n",
    "# C = gs.best_params_.get('C') # достаём оттуда только C\n",
    "# print (C)"
   ]
  },
  {
   "cell_type": "code",
   "execution_count": 27,
   "metadata": {
    "ExecuteTime": {
     "end_time": "2019-04-18T05:22:01.633182Z",
     "start_time": "2019-04-18T05:21:36.684783Z"
    }
   },
   "outputs": [
    {
     "data": {
      "text/plain": [
       "SVC(C=1, cache_size=200, class_weight=None, coef0=0.0,\n",
       "  decision_function_shape='ovr', degree=3, gamma='auto_deprecated',\n",
       "  kernel='linear', max_iter=-1, probability=False, random_state=241,\n",
       "  shrinking=True, tol=0.001, verbose=False)"
      ]
     },
     "execution_count": 27,
     "metadata": {},
     "output_type": "execute_result"
    }
   ],
   "source": [
    "# 4. Обучите SVM по всей выборке с оптимальным параметром C, найденным на предыдущем шаге.\n",
    "\n",
    "\n",
    "\n",
    "model = SVC(kernel='linear', random_state=241, C=1)\n",
    "\n",
    "model.fit(vectorizer.transform(X), y)"
   ]
  },
  {
   "cell_type": "code",
   "execution_count": 28,
   "metadata": {
    "ExecuteTime": {
     "end_time": "2019-04-18T05:22:02.342935Z",
     "start_time": "2019-04-18T05:22:02.291847Z"
    }
   },
   "outputs": [
    {
     "data": {
      "text/plain": [
       "Index(['best', 'easy', 'excellent', 'great', 'perfect', 'poor', 'return',\n",
       "       'unfortunately', 'useless', 'works'],\n",
       "      dtype='object')"
      ]
     },
     "execution_count": 28,
     "metadata": {},
     "output_type": "execute_result"
    }
   ],
   "source": [
    "# 5. Найдите 10 слов с наибольшим по модулю весом. Они являются ответом на это задание. Укажите их через запятую или\n",
    "\n",
    "# пробел, в нижнем регистре, в лексикографическом порядке.\n",
    "\n",
    "\n",
    "\n",
    "words = vectorizer.get_feature_names()\n",
    "\n",
    "coef = pd.DataFrame(model.coef_.data, model.coef_.indices)\n",
    "\n",
    "top_words = coef[0].map(lambda w: abs(w)).sort_values(ascending=False).head(10).index.map(lambda i: words[i])\n",
    "\n",
    "top_words.sort_values ()\n",
    "\n",
    "# top_words"
   ]
  },
  {
   "cell_type": "code",
   "execution_count": 35,
   "metadata": {
    "ExecuteTime": {
     "end_time": "2019-04-18T05:26:49.663301Z",
     "start_time": "2019-04-18T05:26:49.629045Z"
    }
   },
   "outputs": [
    {
     "ename": "ValueError",
     "evalue": "could not convert string to float: 'i had a dvd that kept on not playing every other disc l got from netflix it would say the disc was dirty or scratched i gave any one that didnt play a good clean with these wipes but rearly got any to work maybe if you had dusty cds but l never got any sense that this was cleaning more of a light polish didnt work for me'",
     "output_type": "error",
     "traceback": [
      "\u001b[1;31m---------------------------------------------------------------------------\u001b[0m",
      "\u001b[1;31mValueError\u001b[0m                                Traceback (most recent call last)",
      "\u001b[1;32m<ipython-input-35-3b51386f0e6f>\u001b[0m in \u001b[0;36m<module>\u001b[1;34m\u001b[0m\n\u001b[0;32m      1\u001b[0m \u001b[1;32mfrom\u001b[0m \u001b[0msklearn\u001b[0m\u001b[1;33m.\u001b[0m\u001b[0mmetrics\u001b[0m \u001b[1;32mimport\u001b[0m \u001b[0maccuracy_score\u001b[0m\u001b[1;33m\u001b[0m\u001b[1;33m\u001b[0m\u001b[0m\n\u001b[0;32m      2\u001b[0m print (\"Accuracy for C=%s: %s\" \n\u001b[1;32m----> 3\u001b[1;33m                % ( accuracy_score(y_val, model.predict(X_val))))\n\u001b[0m",
      "\u001b[1;32mC:\\ProgramData\\Anaconda3\\lib\\site-packages\\sklearn\\svm\\base.py\u001b[0m in \u001b[0;36mpredict\u001b[1;34m(self, X)\u001b[0m\n\u001b[0;32m    574\u001b[0m             \u001b[0mClass\u001b[0m \u001b[0mlabels\u001b[0m \u001b[1;32mfor\u001b[0m \u001b[0msamples\u001b[0m \u001b[1;32min\u001b[0m \u001b[0mX\u001b[0m\u001b[1;33m.\u001b[0m\u001b[1;33m\u001b[0m\u001b[1;33m\u001b[0m\u001b[0m\n\u001b[0;32m    575\u001b[0m         \"\"\"\n\u001b[1;32m--> 576\u001b[1;33m         \u001b[0my\u001b[0m \u001b[1;33m=\u001b[0m \u001b[0msuper\u001b[0m\u001b[1;33m(\u001b[0m\u001b[0mBaseSVC\u001b[0m\u001b[1;33m,\u001b[0m \u001b[0mself\u001b[0m\u001b[1;33m)\u001b[0m\u001b[1;33m.\u001b[0m\u001b[0mpredict\u001b[0m\u001b[1;33m(\u001b[0m\u001b[0mX\u001b[0m\u001b[1;33m)\u001b[0m\u001b[1;33m\u001b[0m\u001b[1;33m\u001b[0m\u001b[0m\n\u001b[0m\u001b[0;32m    577\u001b[0m         \u001b[1;32mreturn\u001b[0m \u001b[0mself\u001b[0m\u001b[1;33m.\u001b[0m\u001b[0mclasses_\u001b[0m\u001b[1;33m.\u001b[0m\u001b[0mtake\u001b[0m\u001b[1;33m(\u001b[0m\u001b[0mnp\u001b[0m\u001b[1;33m.\u001b[0m\u001b[0masarray\u001b[0m\u001b[1;33m(\u001b[0m\u001b[0my\u001b[0m\u001b[1;33m,\u001b[0m \u001b[0mdtype\u001b[0m\u001b[1;33m=\u001b[0m\u001b[0mnp\u001b[0m\u001b[1;33m.\u001b[0m\u001b[0mintp\u001b[0m\u001b[1;33m)\u001b[0m\u001b[1;33m)\u001b[0m\u001b[1;33m\u001b[0m\u001b[1;33m\u001b[0m\u001b[0m\n\u001b[0;32m    578\u001b[0m \u001b[1;33m\u001b[0m\u001b[0m\n",
      "\u001b[1;32mC:\\ProgramData\\Anaconda3\\lib\\site-packages\\sklearn\\svm\\base.py\u001b[0m in \u001b[0;36mpredict\u001b[1;34m(self, X)\u001b[0m\n\u001b[0;32m    323\u001b[0m         \u001b[0my_pred\u001b[0m \u001b[1;33m:\u001b[0m \u001b[0marray\u001b[0m\u001b[1;33m,\u001b[0m \u001b[0mshape\u001b[0m \u001b[1;33m(\u001b[0m\u001b[0mn_samples\u001b[0m\u001b[1;33m,\u001b[0m\u001b[1;33m)\u001b[0m\u001b[1;33m\u001b[0m\u001b[1;33m\u001b[0m\u001b[0m\n\u001b[0;32m    324\u001b[0m         \"\"\"\n\u001b[1;32m--> 325\u001b[1;33m         \u001b[0mX\u001b[0m \u001b[1;33m=\u001b[0m \u001b[0mself\u001b[0m\u001b[1;33m.\u001b[0m\u001b[0m_validate_for_predict\u001b[0m\u001b[1;33m(\u001b[0m\u001b[0mX\u001b[0m\u001b[1;33m)\u001b[0m\u001b[1;33m\u001b[0m\u001b[1;33m\u001b[0m\u001b[0m\n\u001b[0m\u001b[0;32m    326\u001b[0m         \u001b[0mpredict\u001b[0m \u001b[1;33m=\u001b[0m \u001b[0mself\u001b[0m\u001b[1;33m.\u001b[0m\u001b[0m_sparse_predict\u001b[0m \u001b[1;32mif\u001b[0m \u001b[0mself\u001b[0m\u001b[1;33m.\u001b[0m\u001b[0m_sparse\u001b[0m \u001b[1;32melse\u001b[0m \u001b[0mself\u001b[0m\u001b[1;33m.\u001b[0m\u001b[0m_dense_predict\u001b[0m\u001b[1;33m\u001b[0m\u001b[1;33m\u001b[0m\u001b[0m\n\u001b[0;32m    327\u001b[0m         \u001b[1;32mreturn\u001b[0m \u001b[0mpredict\u001b[0m\u001b[1;33m(\u001b[0m\u001b[0mX\u001b[0m\u001b[1;33m)\u001b[0m\u001b[1;33m\u001b[0m\u001b[1;33m\u001b[0m\u001b[0m\n",
      "\u001b[1;32mC:\\ProgramData\\Anaconda3\\lib\\site-packages\\sklearn\\svm\\base.py\u001b[0m in \u001b[0;36m_validate_for_predict\u001b[1;34m(self, X)\u001b[0m\n\u001b[0;32m    456\u001b[0m \u001b[1;33m\u001b[0m\u001b[0m\n\u001b[0;32m    457\u001b[0m         X = check_array(X, accept_sparse='csr', dtype=np.float64, order=\"C\",\n\u001b[1;32m--> 458\u001b[1;33m                         accept_large_sparse=False)\n\u001b[0m\u001b[0;32m    459\u001b[0m         \u001b[1;32mif\u001b[0m \u001b[0mself\u001b[0m\u001b[1;33m.\u001b[0m\u001b[0m_sparse\u001b[0m \u001b[1;32mand\u001b[0m \u001b[1;32mnot\u001b[0m \u001b[0msp\u001b[0m\u001b[1;33m.\u001b[0m\u001b[0misspmatrix\u001b[0m\u001b[1;33m(\u001b[0m\u001b[0mX\u001b[0m\u001b[1;33m)\u001b[0m\u001b[1;33m:\u001b[0m\u001b[1;33m\u001b[0m\u001b[1;33m\u001b[0m\u001b[0m\n\u001b[0;32m    460\u001b[0m             \u001b[0mX\u001b[0m \u001b[1;33m=\u001b[0m \u001b[0msp\u001b[0m\u001b[1;33m.\u001b[0m\u001b[0mcsr_matrix\u001b[0m\u001b[1;33m(\u001b[0m\u001b[0mX\u001b[0m\u001b[1;33m)\u001b[0m\u001b[1;33m\u001b[0m\u001b[1;33m\u001b[0m\u001b[0m\n",
      "\u001b[1;32mC:\\ProgramData\\Anaconda3\\lib\\site-packages\\sklearn\\utils\\validation.py\u001b[0m in \u001b[0;36mcheck_array\u001b[1;34m(array, accept_sparse, accept_large_sparse, dtype, order, copy, force_all_finite, ensure_2d, allow_nd, ensure_min_samples, ensure_min_features, warn_on_dtype, estimator)\u001b[0m\n\u001b[0;32m    525\u001b[0m             \u001b[1;32mtry\u001b[0m\u001b[1;33m:\u001b[0m\u001b[1;33m\u001b[0m\u001b[1;33m\u001b[0m\u001b[0m\n\u001b[0;32m    526\u001b[0m                 \u001b[0mwarnings\u001b[0m\u001b[1;33m.\u001b[0m\u001b[0msimplefilter\u001b[0m\u001b[1;33m(\u001b[0m\u001b[1;34m'error'\u001b[0m\u001b[1;33m,\u001b[0m \u001b[0mComplexWarning\u001b[0m\u001b[1;33m)\u001b[0m\u001b[1;33m\u001b[0m\u001b[1;33m\u001b[0m\u001b[0m\n\u001b[1;32m--> 527\u001b[1;33m                 \u001b[0marray\u001b[0m \u001b[1;33m=\u001b[0m \u001b[0mnp\u001b[0m\u001b[1;33m.\u001b[0m\u001b[0masarray\u001b[0m\u001b[1;33m(\u001b[0m\u001b[0marray\u001b[0m\u001b[1;33m,\u001b[0m \u001b[0mdtype\u001b[0m\u001b[1;33m=\u001b[0m\u001b[0mdtype\u001b[0m\u001b[1;33m,\u001b[0m \u001b[0morder\u001b[0m\u001b[1;33m=\u001b[0m\u001b[0morder\u001b[0m\u001b[1;33m)\u001b[0m\u001b[1;33m\u001b[0m\u001b[1;33m\u001b[0m\u001b[0m\n\u001b[0m\u001b[0;32m    528\u001b[0m             \u001b[1;32mexcept\u001b[0m \u001b[0mComplexWarning\u001b[0m\u001b[1;33m:\u001b[0m\u001b[1;33m\u001b[0m\u001b[1;33m\u001b[0m\u001b[0m\n\u001b[0;32m    529\u001b[0m                 raise ValueError(\"Complex data not supported\\n\"\n",
      "\u001b[1;32mC:\\ProgramData\\Anaconda3\\lib\\site-packages\\numpy\\core\\numeric.py\u001b[0m in \u001b[0;36masarray\u001b[1;34m(a, dtype, order)\u001b[0m\n\u001b[0;32m    536\u001b[0m \u001b[1;33m\u001b[0m\u001b[0m\n\u001b[0;32m    537\u001b[0m     \"\"\"\n\u001b[1;32m--> 538\u001b[1;33m     \u001b[1;32mreturn\u001b[0m \u001b[0marray\u001b[0m\u001b[1;33m(\u001b[0m\u001b[0ma\u001b[0m\u001b[1;33m,\u001b[0m \u001b[0mdtype\u001b[0m\u001b[1;33m,\u001b[0m \u001b[0mcopy\u001b[0m\u001b[1;33m=\u001b[0m\u001b[1;32mFalse\u001b[0m\u001b[1;33m,\u001b[0m \u001b[0morder\u001b[0m\u001b[1;33m=\u001b[0m\u001b[0morder\u001b[0m\u001b[1;33m)\u001b[0m\u001b[1;33m\u001b[0m\u001b[1;33m\u001b[0m\u001b[0m\n\u001b[0m\u001b[0;32m    539\u001b[0m \u001b[1;33m\u001b[0m\u001b[0m\n\u001b[0;32m    540\u001b[0m \u001b[1;33m\u001b[0m\u001b[0m\n",
      "\u001b[1;31mValueError\u001b[0m: could not convert string to float: 'i had a dvd that kept on not playing every other disc l got from netflix it would say the disc was dirty or scratched i gave any one that didnt play a good clean with these wipes but rearly got any to work maybe if you had dusty cds but l never got any sense that this was cleaning more of a light polish didnt work for me'"
     ]
    }
   ],
   "source": [
    "from sklearn.metrics import accuracy_score\n",
    "print (\"Accuracy for C=%s: %s\" \n",
    "               % ( accuracy_score(y_val, model.predict(X_val))))"
   ]
  },
  {
   "cell_type": "code",
   "execution_count": 30,
   "metadata": {
    "ExecuteTime": {
     "end_time": "2019-04-18T05:23:15.249159Z",
     "start_time": "2019-04-18T05:23:15.238229Z"
    }
   },
   "outputs": [
    {
     "ename": "TypeError",
     "evalue": "score() missing 2 required positional arguments: 'X' and 'y'",
     "output_type": "error",
     "traceback": [
      "\u001b[1;31m---------------------------------------------------------------------------\u001b[0m",
      "\u001b[1;31mTypeError\u001b[0m                                 Traceback (most recent call last)",
      "\u001b[1;32m<ipython-input-30-48a6c01e0773>\u001b[0m in \u001b[0;36m<module>\u001b[1;34m\u001b[0m\n\u001b[1;32m----> 1\u001b[1;33m \u001b[0mmodel\u001b[0m\u001b[1;33m.\u001b[0m\u001b[0mscore\u001b[0m\u001b[1;33m(\u001b[0m\u001b[1;33m)\u001b[0m\u001b[1;33m\u001b[0m\u001b[1;33m\u001b[0m\u001b[0m\n\u001b[0m",
      "\u001b[1;31mTypeError\u001b[0m: score() missing 2 required positional arguments: 'X' and 'y'"
     ]
    }
   ],
   "source": [
    "model.score()"
   ]
  },
  {
   "cell_type": "code",
   "execution_count": null,
   "metadata": {},
   "outputs": [],
   "source": []
  },
  {
   "cell_type": "code",
   "execution_count": null,
   "metadata": {},
   "outputs": [],
   "source": []
  },
  {
   "cell_type": "code",
   "execution_count": null,
   "metadata": {},
   "outputs": [],
   "source": []
  },
  {
   "cell_type": "code",
   "execution_count": 5,
   "metadata": {},
   "outputs": [
    {
     "name": "stderr",
     "output_type": "stream",
     "text": [
      "/anaconda3/lib/python3.7/site-packages/sklearn/model_selection/_split.py:426: FutureWarning: You should specify a value for 'n_splits' instead of relying on the default value. The default value will change from 3 to 5 in version 0.22.\n",
      "  warnings.warn(NSPLIT_WARNING, FutureWarning)\n"
     ]
    },
    {
     "ename": "TypeError",
     "evalue": "cannot sort an Index object in-place, use sort_values instead",
     "output_type": "error",
     "traceback": [
      "\u001b[0;31m---------------------------------------------------------------------------\u001b[0m",
      "\u001b[0;31mTypeError\u001b[0m                                 Traceback (most recent call last)",
      "\u001b[0;32m<ipython-input-5-b655e3715867>\u001b[0m in \u001b[0;36m<module>\u001b[0;34m\u001b[0m\n\u001b[1;32m     51\u001b[0m \u001b[0mcoef\u001b[0m \u001b[0;34m=\u001b[0m \u001b[0mpandas\u001b[0m\u001b[0;34m.\u001b[0m\u001b[0mDataFrame\u001b[0m\u001b[0;34m(\u001b[0m\u001b[0mmodel\u001b[0m\u001b[0;34m.\u001b[0m\u001b[0mcoef_\u001b[0m\u001b[0;34m.\u001b[0m\u001b[0mdata\u001b[0m\u001b[0;34m,\u001b[0m \u001b[0mmodel\u001b[0m\u001b[0;34m.\u001b[0m\u001b[0mcoef_\u001b[0m\u001b[0;34m.\u001b[0m\u001b[0mindices\u001b[0m\u001b[0;34m)\u001b[0m\u001b[0;34m\u001b[0m\u001b[0;34m\u001b[0m\u001b[0m\n\u001b[1;32m     52\u001b[0m \u001b[0mtop_words\u001b[0m \u001b[0;34m=\u001b[0m \u001b[0mcoef\u001b[0m\u001b[0;34m[\u001b[0m\u001b[0;36m0\u001b[0m\u001b[0;34m]\u001b[0m\u001b[0;34m.\u001b[0m\u001b[0mmap\u001b[0m\u001b[0;34m(\u001b[0m\u001b[0;32mlambda\u001b[0m \u001b[0mw\u001b[0m\u001b[0;34m:\u001b[0m \u001b[0mabs\u001b[0m\u001b[0;34m(\u001b[0m\u001b[0mw\u001b[0m\u001b[0;34m)\u001b[0m\u001b[0;34m)\u001b[0m\u001b[0;34m.\u001b[0m\u001b[0msort_values\u001b[0m\u001b[0;34m(\u001b[0m\u001b[0mascending\u001b[0m\u001b[0;34m=\u001b[0m\u001b[0;32mFalse\u001b[0m\u001b[0;34m)\u001b[0m\u001b[0;34m.\u001b[0m\u001b[0mhead\u001b[0m\u001b[0;34m(\u001b[0m\u001b[0;36m10\u001b[0m\u001b[0;34m)\u001b[0m\u001b[0;34m.\u001b[0m\u001b[0mindex\u001b[0m\u001b[0;34m.\u001b[0m\u001b[0mmap\u001b[0m\u001b[0;34m(\u001b[0m\u001b[0;32mlambda\u001b[0m \u001b[0mi\u001b[0m\u001b[0;34m:\u001b[0m \u001b[0mwords\u001b[0m\u001b[0;34m[\u001b[0m\u001b[0mi\u001b[0m\u001b[0;34m]\u001b[0m\u001b[0;34m)\u001b[0m\u001b[0;34m\u001b[0m\u001b[0;34m\u001b[0m\u001b[0m\n\u001b[0;32m---> 53\u001b[0;31m \u001b[0mtop_words\u001b[0m\u001b[0;34m.\u001b[0m\u001b[0msort\u001b[0m\u001b[0;34m(\u001b[0m\u001b[0;34m)\u001b[0m\u001b[0;34m\u001b[0m\u001b[0;34m\u001b[0m\u001b[0m\n\u001b[0m\u001b[1;32m     54\u001b[0m \u001b[0;31m# print_answer(1, ','.join(top_words))\u001b[0m\u001b[0;34m\u001b[0m\u001b[0;34m\u001b[0m\u001b[0;34m\u001b[0m\u001b[0m\n",
      "\u001b[0;32m/anaconda3/lib/python3.7/site-packages/pandas/core/indexes/base.py\u001b[0m in \u001b[0;36msort\u001b[0;34m(self, *args, **kwargs)\u001b[0m\n\u001b[1;32m   4238\u001b[0m \u001b[0;34m\u001b[0m\u001b[0m\n\u001b[1;32m   4239\u001b[0m     \u001b[0;32mdef\u001b[0m \u001b[0msort\u001b[0m\u001b[0;34m(\u001b[0m\u001b[0mself\u001b[0m\u001b[0;34m,\u001b[0m \u001b[0;34m*\u001b[0m\u001b[0margs\u001b[0m\u001b[0;34m,\u001b[0m \u001b[0;34m**\u001b[0m\u001b[0mkwargs\u001b[0m\u001b[0;34m)\u001b[0m\u001b[0;34m:\u001b[0m\u001b[0;34m\u001b[0m\u001b[0;34m\u001b[0m\u001b[0m\n\u001b[0;32m-> 4240\u001b[0;31m         raise TypeError(\"cannot sort an Index object in-place, use \"\n\u001b[0m\u001b[1;32m   4241\u001b[0m                         \"sort_values instead\")\n\u001b[1;32m   4242\u001b[0m \u001b[0;34m\u001b[0m\u001b[0m\n",
      "\u001b[0;31mTypeError\u001b[0m: cannot sort an Index object in-place, use sort_values instead"
     ]
    }
   ],
   "source": [
    "# coding=utf-8\n",
    "import pandas\n",
    "import numpy as np\n",
    "from sklearn import datasets #, grid_search\n",
    "from sklearn.model_selection import GridSearchCV\n",
    "from sklearn.svm import SVC\n",
    "from sklearn.feature_extraction.text import TfidfVectorizer\n",
    "from sklearn.model_selection import KFold\n",
    "\n",
    "import sys\n",
    "sys.path.append(\"..\")\n",
    "# from shad_util import print_answer\n",
    "\n",
    "# 1. Загрузите объекты из новостного датасета 20 newsgroups, относящиеся к категориям \"космос\" и\n",
    "# \"атеизм\" (инструкция приведена выше). Обратите внимание, что загрузка данных может занять несколько минут\n",
    "\n",
    "newsgroups = datasets.fetch_20newsgroups(subset='all', categories=['alt.atheism', 'sci.space'])\n",
    "X = newsgroups.data\n",
    "y = newsgroups.target\n",
    "\n",
    "# 2. Вычислите TF-IDF-признаки для всех текстов. Обратите внимание, что в этом задании мы предлагаем вам\n",
    "# вычислить TF-IDF по всем данным. При таком подходе получается, что признаки на обучающем множестве используют\n",
    "# информацию из тестовой выборки — но такая ситуация вполне законна, поскольку мы не используем значения целевой\n",
    "# переменной из теста. На практике нередко встречаются ситуации, когда признаки объектов тестовой выборки известны на\n",
    "# момент обучения, и поэтому можно ими пользоваться при обучении алгоритма.\n",
    "\n",
    "vectorizer = TfidfVectorizer()\n",
    "vectorizer.fit_transform(X)\n",
    "\n",
    "# 3. Подберите минимальный лучший параметр C из множества [10^-5, 10^-4, ... 10^4, 10^5] для SVM с\n",
    "# линейным ядром (kernel='linear') при помощи кросс-валидации по 5 блокам. Укажите параметр random_state=241 и для SVM,\n",
    "# и для KFold. В качестве меры качества используйте долю верных ответов (accuracy).\n",
    "\n",
    "grid = {'C': np.power(10.0, np.arange(-5, 6))}\n",
    "cv = KFold(shuffle=True, random_state=241)\n",
    "model = SVC(kernel='linear', random_state=241)\n",
    "gs = GridSearchCV(model, grid, scoring='accuracy', cv=cv)\n",
    "gs.fit(vectorizer.transform(X), y)\n",
    "\n",
    "C = gs.best_params_.get('C')\n",
    "\n",
    "# 4. Обучите SVM по всей выборке с оптимальным параметром C, найденным на предыдущем шаге.\n",
    "\n",
    "model = SVC(kernel='linear', random_state=241, C=C)\n",
    "model.fit(vectorizer.transform(X), y)\n",
    "\n",
    "# 5. Найдите 10 слов с наибольшим по модулю весом. Они являются ответом на это задание. Укажите их через запятую или\n",
    "# пробел, в нижнем регистре, в лексикографическом порядке.\n",
    "\n",
    "words = vectorizer.get_feature_names()\n",
    "coef = pandas.DataFrame(model.coef_.data, model.coef_.indices)\n",
    "top_words = coef[0].map(lambda w: abs(w)).sort_values(ascending=False).head(10).index.map(lambda i: words[i])\n",
    "top_words.sort()\n",
    "# print_answer(1, ','.join(top_words))"
   ]
  },
  {
   "cell_type": "code",
   "execution_count": 7,
   "metadata": {},
   "outputs": [
    {
     "data": {
      "text/plain": [
       "(1786,)"
      ]
     },
     "execution_count": 7,
     "metadata": {},
     "output_type": "execute_result"
    }
   ],
   "source": [
    "np.shape (X)"
   ]
  },
  {
   "cell_type": "code",
   "execution_count": null,
   "metadata": {},
   "outputs": [],
   "source": []
  }
 ],
 "metadata": {
  "kernelspec": {
   "display_name": "Python 3",
   "language": "python",
   "name": "python3"
  },
  "language_info": {
   "codemirror_mode": {
    "name": "ipython",
    "version": 3
   },
   "file_extension": ".py",
   "mimetype": "text/x-python",
   "name": "python",
   "nbconvert_exporter": "python",
   "pygments_lexer": "ipython3",
   "version": "3.7.1"
  },
  "toc": {
   "base_numbering": 1,
   "nav_menu": {},
   "number_sections": true,
   "sideBar": true,
   "skip_h1_title": false,
   "title_cell": "Table of Contents",
   "title_sidebar": "Contents",
   "toc_cell": false,
   "toc_position": {},
   "toc_section_display": true,
   "toc_window_display": false
  },
  "varInspector": {
   "cols": {
    "lenName": 16,
    "lenType": 16,
    "lenVar": 40
   },
   "kernels_config": {
    "python": {
     "delete_cmd_postfix": "",
     "delete_cmd_prefix": "del ",
     "library": "var_list.py",
     "varRefreshCmd": "print(var_dic_list())"
    },
    "r": {
     "delete_cmd_postfix": ") ",
     "delete_cmd_prefix": "rm(",
     "library": "var_list.r",
     "varRefreshCmd": "cat(var_dic_list()) "
    }
   },
   "position": {
    "height": "385.724px",
    "left": "909.92px",
    "right": "20px",
    "top": "124px",
    "width": "335.156px"
   },
   "types_to_exclude": [
    "module",
    "function",
    "builtin_function_or_method",
    "instance",
    "_Feature"
   ],
   "window_display": false
  }
 },
 "nbformat": 4,
 "nbformat_minor": 2
}
