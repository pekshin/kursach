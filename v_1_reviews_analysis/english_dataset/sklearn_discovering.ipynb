{
 "cells": [
  {
   "cell_type": "code",
   "execution_count": 3,
   "metadata": {
    "ExecuteTime": {
     "end_time": "2019-05-31T10:00:32.600228Z",
     "start_time": "2019-05-31T10:00:28.246317Z"
    }
   },
   "outputs": [],
   "source": [
    "import json\n",
    "import pandas as pd\n",
    "import re\n",
    "import random\n",
    "import numpy as np\n",
    "from nltk.corpus import stopwords \n",
    "from sklearn.feature_extraction.text import TfidfVectorizer\n",
    "from sklearn.linear_model import LogisticRegression\n",
    "from sklearn.metrics import accuracy_score\n",
    "from sklearn.model_selection import train_test_split\n",
    "\n",
    "######## METRICS\n",
    "from sklearn.metrics import roc_auc_score\n",
    "from sklearn.metrics import accuracy_score\n",
    "from sklearn.metrics import f1_score\n",
    "from sklearn.metrics import balanced_accuracy_score\n",
    "from sklearn.metrics import precision_recall_curve\n",
    "\n",
    "from sklearn.metrics import classification_report\n",
    "from sklearn.metrics import roc_auc_score\n",
    "from sklearn.metrics import roc_curve\n",
    "\n",
    "# matplotlib\n",
    "import numpy as np\n",
    "import matplotlib.mlab as mlab\n",
    "import matplotlib.pyplot as plt\n",
    "%matplotlib inline\n",
    "\n",
    "import time"
   ]
  },
  {
   "cell_type": "code",
   "execution_count": 33,
   "metadata": {
    "ExecuteTime": {
     "end_time": "2019-05-31T11:21:09.986956Z",
     "start_time": "2019-05-31T11:21:09.977305Z"
    }
   },
   "outputs": [
    {
     "data": {
      "text/plain": [
       "['знаю', 'ли', 'себя', 'тебя', 'точно']"
      ]
     },
     "execution_count": 33,
     "metadata": {},
     "output_type": "execute_result"
    }
   ],
   "source": [
    "X_train = ['Тебя знаю точно', 'Знаю ли тебя', 'Знаю точно себя']\n",
    "\n",
    "\n",
    "cv = TfidfVectorizer(min_df=1, decode_error='replace', encoding='utf-8', norm='l2', use_idf=True, smooth_idf=True, sublinear_tf=False)\n",
    "X = cv.fit_transform(X_train)\n",
    "\n",
    "cv.get_feature_names()"
   ]
  },
  {
   "cell_type": "code",
   "execution_count": 34,
   "metadata": {
    "ExecuteTime": {
     "end_time": "2019-05-31T11:21:10.174758Z",
     "start_time": "2019-05-31T11:21:10.169813Z"
    }
   },
   "outputs": [
    {
     "name": "stdout",
     "output_type": "stream",
     "text": [
      "[[0.48133417 0.         0.         0.61980538 0.61980538]\n",
      " [0.42544054 0.72033345 0.         0.54783215 0.        ]\n",
      " [0.42544054 0.         0.72033345 0.         0.54783215]]\n"
     ]
    }
   ],
   "source": [
    "print (X.toarray())"
   ]
  },
  {
   "cell_type": "code",
   "execution_count": 53,
   "metadata": {
    "ExecuteTime": {
     "end_time": "2019-05-31T12:01:59.167690Z",
     "start_time": "2019-05-31T12:01:58.963847Z"
    }
   },
   "outputs": [
    {
     "data": {
      "image/png": "[encoded data removed]",
      "text/plain": [
       "<Figure size 432x288 with 1 Axes>"
      ]
     },
     "metadata": {
      "needs_background": "light"
     },
     "output_type": "display_data"
    }
   ],
   "source": [
    "import math\n",
    "\n",
    "def sigmoid(x):\n",
    "    a = []\n",
    "    for item in x:\n",
    "        a.append(1/(1+math.exp(-item)))\n",
    "    return a\n",
    "\n",
    "import matplotlib.pyplot as plt\n",
    "import numpy as np\n",
    "\n",
    "x = np.arange(-10., 10., 0.2)\n",
    "sig = sigmoid(x)\n",
    "plt.plot(x,sig)\n",
    "plt.xlabel(\"x\", labelpad=15, fontsize=12, color=\"#333533\")\n",
    "plt.ylabel(\"sig(x)\", labelpad=15, fontsize=12, color=\"#333533\")\n",
    "plt.grid()\n",
    "\n",
    "# plt.gca().spines['left'].set_position('center')\n",
    "# plt.gca().spines['bottom'].set_position('center')\n",
    "\n",
    "plt.gca().spines['bottom'].set_visible(False)\n",
    "plt.gca().spines['right'].set_visible(False)\n",
    "\n",
    "# plt.spines['left'].set_position('center')\n",
    "# plt.spines['bottom'].set_position('center')\n",
    "# plt.spines['top'].set_visible(False)\n",
    "# plt.spines['right'].set_visible(False)\n",
    "\n",
    "plt.show()"
   ]
  },
  {
   "cell_type": "code",
   "execution_count": 57,
   "metadata": {
    "ExecuteTime": {
     "end_time": "2019-05-31T12:03:48.682410Z",
     "start_time": "2019-05-31T12:03:48.421745Z"
    }
   },
   "outputs": [
    {
     "name": "stderr",
     "output_type": "stream",
     "text": [
      "No handles with labels found to put in legend.\n"
     ]
    },
    {
     "data": {
      "image/png": "[encoded data removed]",
      "text/plain": [
       "<Figure size 432x288 with 1 Axes>"
      ]
     },
     "metadata": {
      "needs_background": "light"
     },
     "output_type": "display_data"
    }
   ],
   "source": [
    "#import section\n",
    "from matplotlib import pylab\n",
    "import pylab as plt\n",
    "import numpy as np\n",
    "\n",
    "#sigmoid = lambda x: 1 / (1 + np.exp(-x))\n",
    "def sigmoid(x):\n",
    "    return (1 / (1 + np.exp(-x)))\n",
    "\n",
    "mySamples = []\n",
    "mySigmoid = []\n",
    "\n",
    "# generate an Array with value ???\n",
    "# linespace generate an array from start and stop value\n",
    "# with requested number of elements. Example 10 elements or 100 elements.\n",
    "# \n",
    "x = plt.linspace(-10,10,10)\n",
    "y = plt.linspace(-10,10,100)\n",
    "\n",
    "# prepare the plot, associate the color r(ed) or b(lue) and the label \n",
    "# plt.plot(x, sigmoid(x), 'r', label='linspace(-10,10,10)')\n",
    "plt.plot(y, sigmoid(y), 'b') #  label='linspace(-10,10,100)'\n",
    "\n",
    "# Draw the grid line in background.\n",
    "plt.grid()\n",
    "\n",
    "# Title & Subtitle\n",
    "# plt.title('Sigmoid Function')\n",
    "# plt.suptitle('Sigmoid')\n",
    "\n",
    "# place the legen boc in bottom right of the graph\n",
    "plt.legend(loc='lower right')\n",
    "\n",
    "# write the Sigmoid formula\n",
    "# plt.text(4, 0.8, r'$\\sigma(x)=\\frac{1}{1+e^{-x}}$', fontsize=15)\n",
    "\n",
    "#resize the X and Y axes\n",
    "plt.gca().xaxis.set_major_locator(plt.MultipleLocator(1))\n",
    "plt.gca().yaxis.set_major_locator(plt.MultipleLocator(0.1))\n",
    " \n",
    "\n",
    "# plt.plot(x)\n",
    "plt.xlabel('X Axis')\n",
    "plt.ylabel('Y Axis')\n",
    "\n",
    "# create the graph\n",
    "plt.show()"
   ]
  },
  {
   "cell_type": "code",
   "execution_count": 79,
   "metadata": {
    "ExecuteTime": {
     "end_time": "2019-05-31T18:22:37.809641Z",
     "start_time": "2019-05-31T18:22:36.815552Z"
    }
   },
   "outputs": [
    {
     "name": "stdout",
     "output_type": "stream",
     "text": [
      "Health_and_Personal_Care_5_podbor_c.csv\n",
      "           c  result_1\n",
      "0     0.0001  0.800420\n",
      "1     0.0010  0.803483\n",
      "2     0.0100  0.812072\n",
      "3     0.1000  0.833694\n",
      "4     1.0000  0.849069\n",
      "5    10.0000  0.846907\n",
      "6   100.0000  0.825405\n",
      "7  1000.0000  0.799279\n",
      "Movies_and_TV_5_podbor_c.csv\n",
      "           c  result_1\n",
      "0     0.0001  0.820307\n",
      "1     0.0010  0.830441\n",
      "2     0.0100  0.861424\n",
      "3     0.1000  0.886338\n",
      "4     1.0000  0.898437\n",
      "5    10.0000  0.897788\n",
      "6   100.0000  0.883937\n",
      "7  1000.0000  0.858491\n",
      "Electronics_5_podbor_c.csv\n",
      "           c  result_1\n",
      "0     0.0001  0.818751\n",
      "1     0.0010  0.829533\n",
      "2     0.0100  0.858056\n",
      "3     0.1000  0.881382\n",
      "4     1.0000  0.891169\n",
      "5    10.0000  0.890372\n",
      "6   100.0000  0.876467\n",
      "7  1000.0000  0.853707\n",
      "Books_5_podbor_c.csv\n",
      "           c  result_1\n",
      "0     0.0001  0.821816\n",
      "1     0.0010  0.839216\n",
      "2     0.0100  0.870832\n",
      "3     0.1000  0.892800\n",
      "4     1.0000  0.905584\n",
      "5    10.0000  0.906968\n",
      "6   100.0000  0.896812\n",
      "7  1000.0000  0.875220\n",
      "reviews_Kindle_Store_5_podbor_c.csv\n",
      "           c  result_1\n",
      "0     0.0001  0.838070\n",
      "1     0.0010  0.869007\n",
      "2     0.0100  0.880136\n",
      "3     0.1000  0.900854\n",
      "4     1.0000  0.912508\n",
      "5    10.0000  0.911143\n",
      "6   100.0000  0.894205\n",
      "7  1000.0000  0.861797\n",
      "reviews_CDs_and_Vinyl_5_podbor_c.csv\n",
      "           c  result_1\n",
      "0     0.0001  0.828472\n",
      "1     0.0010  0.831835\n",
      "2     0.0100  0.850333\n",
      "3     0.1000  0.876895\n",
      "4     1.0000  0.893194\n",
      "5    10.0000  0.892655\n",
      "6   100.0000  0.877822\n",
      "7  1000.0000  0.860811\n"
     ]
    },
    {
     "data": {
      "image/png": "[encoded data removed]",
      "text/plain": [
       "<Figure size 432x288 with 1 Axes>"
      ]
     },
     "metadata": {
      "needs_background": "light"
     },
     "output_type": "display_data"
    }
   ],
   "source": [
    "import matplotlib.pyplot as plt\n",
    "import numpy as np\n",
    "import os\n",
    "import pandas as pd\n",
    "# df = pd.read_csv('')\n",
    "\n",
    "for i in os.listdir('/Volumes/GoogleDrive/Мой диск/Work/Experiment'):\n",
    "    if (i[-len('podbor_c.csv'):] == 'podbor_c.csv'): #& (i == 'Health_and_Personal_Care_5_podbor_c.csv'):\n",
    "        print (i)\n",
    "        df = pd.read_csv('/Volumes/GoogleDrive/Мой диск/Work/Experiment/' + i)\n",
    "        print (df)\n",
    "        plt.plot(df['c'],df['result_1'])\n",
    "        plt.xscale('log')\n",
    "        plt.legend(loc='lower right')\n",
    "#     roc_crivai.csv"
   ]
  },
  {
   "cell_type": "code",
   "execution_count": null,
   "metadata": {},
   "outputs": [],
   "source": []
  }
 ],
 "metadata": {
  "kernelspec": {
   "display_name": "Python 3",
   "language": "python",
   "name": "python3"
  },
  "language_info": {
   "codemirror_mode": {
    "name": "ipython",
    "version": 3
   },
   "file_extension": ".py",
   "mimetype": "text/x-python",
   "name": "python",
   "nbconvert_exporter": "python",
   "pygments_lexer": "ipython3",
   "version": "3.7.3"
  },
  "toc": {
   "base_numbering": 1,
   "nav_menu": {},
   "number_sections": true,
   "sideBar": true,
   "skip_h1_title": false,
   "title_cell": "Table of Contents",
   "title_sidebar": "Contents",
   "toc_cell": false,
   "toc_position": {},
   "toc_section_display": true,
   "toc_window_display": false
  },
  "varInspector": {
   "cols": {
    "lenName": 16,
    "lenType": 16,
    "lenVar": 40
   },
   "kernels_config": {
    "python": {
     "delete_cmd_postfix": "",
     "delete_cmd_prefix": "del ",
     "library": "var_list.py",
     "varRefreshCmd": "print(var_dic_list())"
    },
    "r": {
     "delete_cmd_postfix": ") ",
     "delete_cmd_prefix": "rm(",
     "library": "var_list.r",
     "varRefreshCmd": "cat(var_dic_list()) "
    }
   },
   "types_to_exclude": [
    "module",
    "function",
    "builtin_function_or_method",
    "instance",
    "_Feature"
   ],
   "window_display": false
  }
 },
 "nbformat": 4,
 "nbformat_minor": 2
}
